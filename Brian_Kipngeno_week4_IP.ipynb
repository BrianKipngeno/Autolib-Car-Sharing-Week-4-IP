{
  "nbformat": 4,
  "nbformat_minor": 0,
  "metadata": {
    "colab": {
      "name": " Brian_Kipngeno_week4_IP.ipynb",
      "provenance": [],
      "collapsed_sections": [],
      "toc_visible": true,
      "authorship_tag": "ABX9TyPAKnT2EFEt6vKr5NWYoU5Y",
      "include_colab_link": true
    },
    "kernelspec": {
      "name": "python3",
      "display_name": "Python 3"
    },
    "language_info": {
      "name": "python"
    }
  },
  "cells": [
    {
      "cell_type": "markdown",
      "metadata": {
        "id": "view-in-github",
        "colab_type": "text"
      },
      "source": [
        "<a href=\"https://colab.research.google.com/github/BrianKipngeno/Autolib-Car-Sharing-Week-4-IP/blob/main/Brian_Kipngeno_week4_IP.ipynb\" target=\"_parent\"><img src=\"https://colab.research.google.com/assets/colab-badge.svg\" alt=\"Open In Colab\"/></a>"
      ]
    },
    {
      "cell_type": "markdown",
      "source": [
        "  # AUTOLIB CAR SHARING SERVICE"
      ],
      "metadata": {
        "id": "t7iLIEb9mt9s"
      }
    },
    {
      "cell_type": "markdown",
      "source": [
        "# Introduction: Background information"
      ],
      "metadata": {
        "id": "J0Bhqo9hPb6l"
      }
    },
    {
      "cell_type": "markdown",
      "source": [
        "Autolib was an electric car sharing service which was inaugurated in Paris, France, in December 2011. It closed on 31 July 2018. It was operated by the Bolloré industry and complemented the city's bike sharing system, Velib', which was set up in 2007. The Autolib' service maintained a fleet of all-electric Bolloré Bluecars or the utility cars Utilib and Utilib 14. for public use on a paid subscription basis, employing a citywide network of parking and charging stations."
      ],
      "metadata": {
        "id": "U043I2wdPNp-"
      }
    },
    {
      "cell_type": "markdown",
      "source": [
        "##  Specifying the Data Analytic Question: PROBLEM STATEMENT\n",
        "\n",
        "We are tasked to investigate a claim about  the blue cars from the autilob dataset. We wil study the car sharing service of the blue cars during weekends to test the following hypothesis.\n",
        "\n",
        " **Null hypothesis**: the mean of blue cars taken \n",
        "is equal to that of the blue cars returned\n",
        "\n",
        "\n",
        " **Alternative hypothesis**:  the mean of blue cars taken is not equal to that of the blue cars returned.\n",
        "\n",
        " Our objectives for this experiment are:\n",
        " \n",
        "  1) Find and deal with outliers, anomalies, and missing data within the dataset.\n",
        "\n",
        "  2)Plot appropriate univariate and bivariate summaries recording our observations.\n",
        "\n",
        "  3)Implement the solution by performing hypothesis testing.\n",
        "\n",
        "  4)Construct a confidence interval \n"
      ],
      "metadata": {
        "id": "v99FZwY1Ta0H"
      }
    },
    {
      "cell_type": "markdown",
      "source": [
        "# Metric of success"
      ],
      "metadata": {
        "id": "jCNvxqAtWols"
      }
    },
    {
      "cell_type": "markdown",
      "source": [
        "Completing on a hypothesis test giving a 95% confidence interval of the problem statement."
      ],
      "metadata": {
        "id": "7Egiqdq6bgG3"
      }
    },
    {
      "cell_type": "markdown",
      "source": [
        "#  Relevance of the data"
      ],
      "metadata": {
        "id": "3HNrFjWBcKV5"
      }
    },
    {
      "cell_type": "markdown",
      "source": [
        "The data that was used for this research was obtained from an open datasource. The provided dataset is a daily aggregation, by date and postal code, of the number of events on the Autolib network."
      ],
      "metadata": {
        "id": "gduBjHMCcb4Q"
      }
    },
    {
      "cell_type": "markdown",
      "source": [
        "# Importing libraries"
      ],
      "metadata": {
        "id": "wZ29hv6RTEmi"
      }
    },
    {
      "cell_type": "code",
      "source": [
        "# We will begin by importing the libraries that we need\n",
        "\n",
        "import pandas as pd\n",
        "import numpy as np\n",
        "import seaborn as sns\n",
        "import matplotlib\n",
        "from matplotlib import pyplot as plt\n",
        "%matplotlib inline\n"
      ],
      "metadata": {
        "id": "WEcQc4x1nRUy"
      },
      "execution_count": 1,
      "outputs": []
    },
    {
      "cell_type": "markdown",
      "source": [
        "# Checking the data.\n"
      ],
      "metadata": {
        "id": "r1neZ2cknX0T"
      }
    },
    {
      "cell_type": "code",
      "source": [
        "description = pd.read_excel('http://bit.ly/DSCoreAutolibDatasetGlossary')\n",
        "description"
      ],
      "metadata": {
        "colab": {
          "base_uri": "https://localhost:8080/",
          "height": 457
        },
        "id": "nC1BYmHwNAYK",
        "outputId": "217baad1-e4f3-4517-864d-d9b0689b64a0"
      },
      "execution_count": 2,
      "outputs": [
        {
          "output_type": "execute_result",
          "data": {
            "text/html": [
              "\n",
              "  <div id=\"df-fd211745-f70b-4963-b283-0c63828d5a34\">\n",
              "    <div class=\"colab-df-container\">\n",
              "      <div>\n",
              "<style scoped>\n",
              "    .dataframe tbody tr th:only-of-type {\n",
              "        vertical-align: middle;\n",
              "    }\n",
              "\n",
              "    .dataframe tbody tr th {\n",
              "        vertical-align: top;\n",
              "    }\n",
              "\n",
              "    .dataframe thead th {\n",
              "        text-align: right;\n",
              "    }\n",
              "</style>\n",
              "<table border=\"1\" class=\"dataframe\">\n",
              "  <thead>\n",
              "    <tr style=\"text-align: right;\">\n",
              "      <th></th>\n",
              "      <th>Column name</th>\n",
              "      <th>explanation</th>\n",
              "    </tr>\n",
              "  </thead>\n",
              "  <tbody>\n",
              "    <tr>\n",
              "      <th>0</th>\n",
              "      <td>Postal code</td>\n",
              "      <td>postal code of the area (in Paris)</td>\n",
              "    </tr>\n",
              "    <tr>\n",
              "      <th>1</th>\n",
              "      <td>date</td>\n",
              "      <td>date of the row aggregation</td>\n",
              "    </tr>\n",
              "    <tr>\n",
              "      <th>2</th>\n",
              "      <td>n_daily_data_points</td>\n",
              "      <td>number of daily data poinst that were availabl...</td>\n",
              "    </tr>\n",
              "    <tr>\n",
              "      <th>3</th>\n",
              "      <td>dayOfWeek</td>\n",
              "      <td>identifier of weekday (0: Monday -&gt; 6: Sunday)</td>\n",
              "    </tr>\n",
              "    <tr>\n",
              "      <th>4</th>\n",
              "      <td>day_type</td>\n",
              "      <td>weekday or weekend</td>\n",
              "    </tr>\n",
              "    <tr>\n",
              "      <th>5</th>\n",
              "      <td>BlueCars_taken_sum</td>\n",
              "      <td>Number of bluecars taken that date in that area</td>\n",
              "    </tr>\n",
              "    <tr>\n",
              "      <th>6</th>\n",
              "      <td>BlueCars_returned_sum</td>\n",
              "      <td>Number of bluecars returned that date in that ...</td>\n",
              "    </tr>\n",
              "    <tr>\n",
              "      <th>7</th>\n",
              "      <td>Utilib_taken_sum</td>\n",
              "      <td>Number of Utilib taken that date in that area</td>\n",
              "    </tr>\n",
              "    <tr>\n",
              "      <th>8</th>\n",
              "      <td>Utilib_returned_sum</td>\n",
              "      <td>Number of Utilib returned that date in that area</td>\n",
              "    </tr>\n",
              "    <tr>\n",
              "      <th>9</th>\n",
              "      <td>Utilib_14_taken_sum</td>\n",
              "      <td>Number of Utilib 1.4 taken that date in that area</td>\n",
              "    </tr>\n",
              "    <tr>\n",
              "      <th>10</th>\n",
              "      <td>Utilib_14_returned_sum</td>\n",
              "      <td>Number of Utilib 1.4 returned that date in tha...</td>\n",
              "    </tr>\n",
              "    <tr>\n",
              "      <th>11</th>\n",
              "      <td>Slots_freed_sum</td>\n",
              "      <td>Number of recharging slots released that date ...</td>\n",
              "    </tr>\n",
              "    <tr>\n",
              "      <th>12</th>\n",
              "      <td>Slots_taken_sum</td>\n",
              "      <td>Number of rechargign slots taken that date in ...</td>\n",
              "    </tr>\n",
              "  </tbody>\n",
              "</table>\n",
              "</div>\n",
              "      <button class=\"colab-df-convert\" onclick=\"convertToInteractive('df-fd211745-f70b-4963-b283-0c63828d5a34')\"\n",
              "              title=\"Convert this dataframe to an interactive table.\"\n",
              "              style=\"display:none;\">\n",
              "        \n",
              "  <svg xmlns=\"http://www.w3.org/2000/svg\" height=\"24px\"viewBox=\"0 0 24 24\"\n",
              "       width=\"24px\">\n",
              "    <path d=\"M0 0h24v24H0V0z\" fill=\"none\"/>\n",
              "    <path d=\"M18.56 5.44l.94 2.06.94-2.06 2.06-.94-2.06-.94-.94-2.06-.94 2.06-2.06.94zm-11 1L8.5 8.5l.94-2.06 2.06-.94-2.06-.94L8.5 2.5l-.94 2.06-2.06.94zm10 10l.94 2.06.94-2.06 2.06-.94-2.06-.94-.94-2.06-.94 2.06-2.06.94z\"/><path d=\"M17.41 7.96l-1.37-1.37c-.4-.4-.92-.59-1.43-.59-.52 0-1.04.2-1.43.59L10.3 9.45l-7.72 7.72c-.78.78-.78 2.05 0 2.83L4 21.41c.39.39.9.59 1.41.59.51 0 1.02-.2 1.41-.59l7.78-7.78 2.81-2.81c.8-.78.8-2.07 0-2.86zM5.41 20L4 18.59l7.72-7.72 1.47 1.35L5.41 20z\"/>\n",
              "  </svg>\n",
              "      </button>\n",
              "      \n",
              "  <style>\n",
              "    .colab-df-container {\n",
              "      display:flex;\n",
              "      flex-wrap:wrap;\n",
              "      gap: 12px;\n",
              "    }\n",
              "\n",
              "    .colab-df-convert {\n",
              "      background-color: #E8F0FE;\n",
              "      border: none;\n",
              "      border-radius: 50%;\n",
              "      cursor: pointer;\n",
              "      display: none;\n",
              "      fill: #1967D2;\n",
              "      height: 32px;\n",
              "      padding: 0 0 0 0;\n",
              "      width: 32px;\n",
              "    }\n",
              "\n",
              "    .colab-df-convert:hover {\n",
              "      background-color: #E2EBFA;\n",
              "      box-shadow: 0px 1px 2px rgba(60, 64, 67, 0.3), 0px 1px 3px 1px rgba(60, 64, 67, 0.15);\n",
              "      fill: #174EA6;\n",
              "    }\n",
              "\n",
              "    [theme=dark] .colab-df-convert {\n",
              "      background-color: #3B4455;\n",
              "      fill: #D2E3FC;\n",
              "    }\n",
              "\n",
              "    [theme=dark] .colab-df-convert:hover {\n",
              "      background-color: #434B5C;\n",
              "      box-shadow: 0px 1px 3px 1px rgba(0, 0, 0, 0.15);\n",
              "      filter: drop-shadow(0px 1px 2px rgba(0, 0, 0, 0.3));\n",
              "      fill: #FFFFFF;\n",
              "    }\n",
              "  </style>\n",
              "\n",
              "      <script>\n",
              "        const buttonEl =\n",
              "          document.querySelector('#df-fd211745-f70b-4963-b283-0c63828d5a34 button.colab-df-convert');\n",
              "        buttonEl.style.display =\n",
              "          google.colab.kernel.accessAllowed ? 'block' : 'none';\n",
              "\n",
              "        async function convertToInteractive(key) {\n",
              "          const element = document.querySelector('#df-fd211745-f70b-4963-b283-0c63828d5a34');\n",
              "          const dataTable =\n",
              "            await google.colab.kernel.invokeFunction('convertToInteractive',\n",
              "                                                     [key], {});\n",
              "          if (!dataTable) return;\n",
              "\n",
              "          const docLinkHtml = 'Like what you see? Visit the ' +\n",
              "            '<a target=\"_blank\" href=https://colab.research.google.com/notebooks/data_table.ipynb>data table notebook</a>'\n",
              "            + ' to learn more about interactive tables.';\n",
              "          element.innerHTML = '';\n",
              "          dataTable['output_type'] = 'display_data';\n",
              "          await google.colab.output.renderOutput(dataTable, element);\n",
              "          const docLink = document.createElement('div');\n",
              "          docLink.innerHTML = docLinkHtml;\n",
              "          element.appendChild(docLink);\n",
              "        }\n",
              "      </script>\n",
              "    </div>\n",
              "  </div>\n",
              "  "
            ],
            "text/plain": [
              "               Column name                                        explanation\n",
              "0              Postal code                 postal code of the area (in Paris)\n",
              "1                     date                        date of the row aggregation\n",
              "2      n_daily_data_points  number of daily data poinst that were availabl...\n",
              "3                dayOfWeek     identifier of weekday (0: Monday -> 6: Sunday)\n",
              "4                 day_type                                 weekday or weekend\n",
              "5       BlueCars_taken_sum    Number of bluecars taken that date in that area\n",
              "6    BlueCars_returned_sum  Number of bluecars returned that date in that ...\n",
              "7         Utilib_taken_sum      Number of Utilib taken that date in that area\n",
              "8      Utilib_returned_sum   Number of Utilib returned that date in that area\n",
              "9      Utilib_14_taken_sum  Number of Utilib 1.4 taken that date in that area\n",
              "10  Utilib_14_returned_sum  Number of Utilib 1.4 returned that date in tha...\n",
              "11         Slots_freed_sum  Number of recharging slots released that date ...\n",
              "12         Slots_taken_sum  Number of rechargign slots taken that date in ..."
            ]
          },
          "metadata": {},
          "execution_count": 2
        }
      ]
    },
    {
      "cell_type": "code",
      "source": [
        "#loading the dataset\n",
        " \n",
        "autolib_data = pd.read_csv(\"http://bit.ly/DSCoreAutolibDataset\")\n",
        "autolib_data"
      ],
      "metadata": {
        "colab": {
          "base_uri": "https://localhost:8080/",
          "height": 505
        },
        "id": "A_2HjkLhnd6q",
        "outputId": "71e8cb2a-7af5-4066-b6b5-841adf5fac07"
      },
      "execution_count": 3,
      "outputs": [
        {
          "output_type": "execute_result",
          "data": {
            "text/html": [
              "\n",
              "  <div id=\"df-83c3174b-c2a9-418b-9f56-d15f841ab8b4\">\n",
              "    <div class=\"colab-df-container\">\n",
              "      <div>\n",
              "<style scoped>\n",
              "    .dataframe tbody tr th:only-of-type {\n",
              "        vertical-align: middle;\n",
              "    }\n",
              "\n",
              "    .dataframe tbody tr th {\n",
              "        vertical-align: top;\n",
              "    }\n",
              "\n",
              "    .dataframe thead th {\n",
              "        text-align: right;\n",
              "    }\n",
              "</style>\n",
              "<table border=\"1\" class=\"dataframe\">\n",
              "  <thead>\n",
              "    <tr style=\"text-align: right;\">\n",
              "      <th></th>\n",
              "      <th>Postal code</th>\n",
              "      <th>date</th>\n",
              "      <th>n_daily_data_points</th>\n",
              "      <th>dayOfWeek</th>\n",
              "      <th>day_type</th>\n",
              "      <th>BlueCars_taken_sum</th>\n",
              "      <th>BlueCars_returned_sum</th>\n",
              "      <th>Utilib_taken_sum</th>\n",
              "      <th>Utilib_returned_sum</th>\n",
              "      <th>Utilib_14_taken_sum</th>\n",
              "      <th>Utilib_14_returned_sum</th>\n",
              "      <th>Slots_freed_sum</th>\n",
              "      <th>Slots_taken_sum</th>\n",
              "    </tr>\n",
              "  </thead>\n",
              "  <tbody>\n",
              "    <tr>\n",
              "      <th>0</th>\n",
              "      <td>75001</td>\n",
              "      <td>1/1/2018</td>\n",
              "      <td>1440</td>\n",
              "      <td>0</td>\n",
              "      <td>weekday</td>\n",
              "      <td>110</td>\n",
              "      <td>103</td>\n",
              "      <td>3</td>\n",
              "      <td>2</td>\n",
              "      <td>10</td>\n",
              "      <td>9</td>\n",
              "      <td>22</td>\n",
              "      <td>20</td>\n",
              "    </tr>\n",
              "    <tr>\n",
              "      <th>1</th>\n",
              "      <td>75001</td>\n",
              "      <td>1/2/2018</td>\n",
              "      <td>1438</td>\n",
              "      <td>1</td>\n",
              "      <td>weekday</td>\n",
              "      <td>98</td>\n",
              "      <td>94</td>\n",
              "      <td>1</td>\n",
              "      <td>1</td>\n",
              "      <td>8</td>\n",
              "      <td>8</td>\n",
              "      <td>23</td>\n",
              "      <td>22</td>\n",
              "    </tr>\n",
              "    <tr>\n",
              "      <th>2</th>\n",
              "      <td>75001</td>\n",
              "      <td>1/3/2018</td>\n",
              "      <td>1439</td>\n",
              "      <td>2</td>\n",
              "      <td>weekday</td>\n",
              "      <td>138</td>\n",
              "      <td>139</td>\n",
              "      <td>0</td>\n",
              "      <td>0</td>\n",
              "      <td>2</td>\n",
              "      <td>2</td>\n",
              "      <td>27</td>\n",
              "      <td>27</td>\n",
              "    </tr>\n",
              "    <tr>\n",
              "      <th>3</th>\n",
              "      <td>75001</td>\n",
              "      <td>1/4/2018</td>\n",
              "      <td>1320</td>\n",
              "      <td>3</td>\n",
              "      <td>weekday</td>\n",
              "      <td>104</td>\n",
              "      <td>104</td>\n",
              "      <td>2</td>\n",
              "      <td>2</td>\n",
              "      <td>9</td>\n",
              "      <td>8</td>\n",
              "      <td>25</td>\n",
              "      <td>21</td>\n",
              "    </tr>\n",
              "    <tr>\n",
              "      <th>4</th>\n",
              "      <td>75001</td>\n",
              "      <td>1/5/2018</td>\n",
              "      <td>1440</td>\n",
              "      <td>4</td>\n",
              "      <td>weekday</td>\n",
              "      <td>114</td>\n",
              "      <td>117</td>\n",
              "      <td>3</td>\n",
              "      <td>3</td>\n",
              "      <td>6</td>\n",
              "      <td>6</td>\n",
              "      <td>18</td>\n",
              "      <td>20</td>\n",
              "    </tr>\n",
              "    <tr>\n",
              "      <th>...</th>\n",
              "      <td>...</td>\n",
              "      <td>...</td>\n",
              "      <td>...</td>\n",
              "      <td>...</td>\n",
              "      <td>...</td>\n",
              "      <td>...</td>\n",
              "      <td>...</td>\n",
              "      <td>...</td>\n",
              "      <td>...</td>\n",
              "      <td>...</td>\n",
              "      <td>...</td>\n",
              "      <td>...</td>\n",
              "      <td>...</td>\n",
              "    </tr>\n",
              "    <tr>\n",
              "      <th>16080</th>\n",
              "      <td>95880</td>\n",
              "      <td>6/15/2018</td>\n",
              "      <td>1440</td>\n",
              "      <td>4</td>\n",
              "      <td>weekday</td>\n",
              "      <td>15</td>\n",
              "      <td>10</td>\n",
              "      <td>0</td>\n",
              "      <td>0</td>\n",
              "      <td>2</td>\n",
              "      <td>3</td>\n",
              "      <td>0</td>\n",
              "      <td>0</td>\n",
              "    </tr>\n",
              "    <tr>\n",
              "      <th>16081</th>\n",
              "      <td>95880</td>\n",
              "      <td>6/16/2018</td>\n",
              "      <td>1440</td>\n",
              "      <td>5</td>\n",
              "      <td>weekend</td>\n",
              "      <td>19</td>\n",
              "      <td>19</td>\n",
              "      <td>0</td>\n",
              "      <td>0</td>\n",
              "      <td>2</td>\n",
              "      <td>1</td>\n",
              "      <td>0</td>\n",
              "      <td>0</td>\n",
              "    </tr>\n",
              "    <tr>\n",
              "      <th>16082</th>\n",
              "      <td>95880</td>\n",
              "      <td>6/17/2018</td>\n",
              "      <td>1440</td>\n",
              "      <td>6</td>\n",
              "      <td>weekend</td>\n",
              "      <td>33</td>\n",
              "      <td>35</td>\n",
              "      <td>1</td>\n",
              "      <td>1</td>\n",
              "      <td>0</td>\n",
              "      <td>0</td>\n",
              "      <td>0</td>\n",
              "      <td>0</td>\n",
              "    </tr>\n",
              "    <tr>\n",
              "      <th>16083</th>\n",
              "      <td>95880</td>\n",
              "      <td>6/18/2018</td>\n",
              "      <td>1440</td>\n",
              "      <td>0</td>\n",
              "      <td>weekday</td>\n",
              "      <td>11</td>\n",
              "      <td>14</td>\n",
              "      <td>3</td>\n",
              "      <td>5</td>\n",
              "      <td>2</td>\n",
              "      <td>2</td>\n",
              "      <td>0</td>\n",
              "      <td>0</td>\n",
              "    </tr>\n",
              "    <tr>\n",
              "      <th>16084</th>\n",
              "      <td>95880</td>\n",
              "      <td>6/19/2018</td>\n",
              "      <td>1370</td>\n",
              "      <td>1</td>\n",
              "      <td>weekday</td>\n",
              "      <td>2</td>\n",
              "      <td>2</td>\n",
              "      <td>2</td>\n",
              "      <td>1</td>\n",
              "      <td>0</td>\n",
              "      <td>0</td>\n",
              "      <td>0</td>\n",
              "      <td>0</td>\n",
              "    </tr>\n",
              "  </tbody>\n",
              "</table>\n",
              "<p>16085 rows × 13 columns</p>\n",
              "</div>\n",
              "      <button class=\"colab-df-convert\" onclick=\"convertToInteractive('df-83c3174b-c2a9-418b-9f56-d15f841ab8b4')\"\n",
              "              title=\"Convert this dataframe to an interactive table.\"\n",
              "              style=\"display:none;\">\n",
              "        \n",
              "  <svg xmlns=\"http://www.w3.org/2000/svg\" height=\"24px\"viewBox=\"0 0 24 24\"\n",
              "       width=\"24px\">\n",
              "    <path d=\"M0 0h24v24H0V0z\" fill=\"none\"/>\n",
              "    <path d=\"M18.56 5.44l.94 2.06.94-2.06 2.06-.94-2.06-.94-.94-2.06-.94 2.06-2.06.94zm-11 1L8.5 8.5l.94-2.06 2.06-.94-2.06-.94L8.5 2.5l-.94 2.06-2.06.94zm10 10l.94 2.06.94-2.06 2.06-.94-2.06-.94-.94-2.06-.94 2.06-2.06.94z\"/><path d=\"M17.41 7.96l-1.37-1.37c-.4-.4-.92-.59-1.43-.59-.52 0-1.04.2-1.43.59L10.3 9.45l-7.72 7.72c-.78.78-.78 2.05 0 2.83L4 21.41c.39.39.9.59 1.41.59.51 0 1.02-.2 1.41-.59l7.78-7.78 2.81-2.81c.8-.78.8-2.07 0-2.86zM5.41 20L4 18.59l7.72-7.72 1.47 1.35L5.41 20z\"/>\n",
              "  </svg>\n",
              "      </button>\n",
              "      \n",
              "  <style>\n",
              "    .colab-df-container {\n",
              "      display:flex;\n",
              "      flex-wrap:wrap;\n",
              "      gap: 12px;\n",
              "    }\n",
              "\n",
              "    .colab-df-convert {\n",
              "      background-color: #E8F0FE;\n",
              "      border: none;\n",
              "      border-radius: 50%;\n",
              "      cursor: pointer;\n",
              "      display: none;\n",
              "      fill: #1967D2;\n",
              "      height: 32px;\n",
              "      padding: 0 0 0 0;\n",
              "      width: 32px;\n",
              "    }\n",
              "\n",
              "    .colab-df-convert:hover {\n",
              "      background-color: #E2EBFA;\n",
              "      box-shadow: 0px 1px 2px rgba(60, 64, 67, 0.3), 0px 1px 3px 1px rgba(60, 64, 67, 0.15);\n",
              "      fill: #174EA6;\n",
              "    }\n",
              "\n",
              "    [theme=dark] .colab-df-convert {\n",
              "      background-color: #3B4455;\n",
              "      fill: #D2E3FC;\n",
              "    }\n",
              "\n",
              "    [theme=dark] .colab-df-convert:hover {\n",
              "      background-color: #434B5C;\n",
              "      box-shadow: 0px 1px 3px 1px rgba(0, 0, 0, 0.15);\n",
              "      filter: drop-shadow(0px 1px 2px rgba(0, 0, 0, 0.3));\n",
              "      fill: #FFFFFF;\n",
              "    }\n",
              "  </style>\n",
              "\n",
              "      <script>\n",
              "        const buttonEl =\n",
              "          document.querySelector('#df-83c3174b-c2a9-418b-9f56-d15f841ab8b4 button.colab-df-convert');\n",
              "        buttonEl.style.display =\n",
              "          google.colab.kernel.accessAllowed ? 'block' : 'none';\n",
              "\n",
              "        async function convertToInteractive(key) {\n",
              "          const element = document.querySelector('#df-83c3174b-c2a9-418b-9f56-d15f841ab8b4');\n",
              "          const dataTable =\n",
              "            await google.colab.kernel.invokeFunction('convertToInteractive',\n",
              "                                                     [key], {});\n",
              "          if (!dataTable) return;\n",
              "\n",
              "          const docLinkHtml = 'Like what you see? Visit the ' +\n",
              "            '<a target=\"_blank\" href=https://colab.research.google.com/notebooks/data_table.ipynb>data table notebook</a>'\n",
              "            + ' to learn more about interactive tables.';\n",
              "          element.innerHTML = '';\n",
              "          dataTable['output_type'] = 'display_data';\n",
              "          await google.colab.output.renderOutput(dataTable, element);\n",
              "          const docLink = document.createElement('div');\n",
              "          docLink.innerHTML = docLinkHtml;\n",
              "          element.appendChild(docLink);\n",
              "        }\n",
              "      </script>\n",
              "    </div>\n",
              "  </div>\n",
              "  "
            ],
            "text/plain": [
              "       Postal code       date  ...  Slots_freed_sum  Slots_taken_sum\n",
              "0            75001   1/1/2018  ...               22               20\n",
              "1            75001   1/2/2018  ...               23               22\n",
              "2            75001   1/3/2018  ...               27               27\n",
              "3            75001   1/4/2018  ...               25               21\n",
              "4            75001   1/5/2018  ...               18               20\n",
              "...            ...        ...  ...              ...              ...\n",
              "16080        95880  6/15/2018  ...                0                0\n",
              "16081        95880  6/16/2018  ...                0                0\n",
              "16082        95880  6/17/2018  ...                0                0\n",
              "16083        95880  6/18/2018  ...                0                0\n",
              "16084        95880  6/19/2018  ...                0                0\n",
              "\n",
              "[16085 rows x 13 columns]"
            ]
          },
          "metadata": {},
          "execution_count": 3
        }
      ]
    },
    {
      "cell_type": "code",
      "source": [
        "#  Previewing the top of our dataset\n",
        "autolib_data.head()"
      ],
      "metadata": {
        "colab": {
          "base_uri": "https://localhost:8080/",
          "height": 288
        },
        "id": "L1GSty81o0Oq",
        "outputId": "a9e6ba3c-fb5b-4966-ff4f-e7344c538ccc"
      },
      "execution_count": 4,
      "outputs": [
        {
          "output_type": "execute_result",
          "data": {
            "text/html": [
              "\n",
              "  <div id=\"df-ff07344f-13eb-47b6-bdf6-eb855b6f64f7\">\n",
              "    <div class=\"colab-df-container\">\n",
              "      <div>\n",
              "<style scoped>\n",
              "    .dataframe tbody tr th:only-of-type {\n",
              "        vertical-align: middle;\n",
              "    }\n",
              "\n",
              "    .dataframe tbody tr th {\n",
              "        vertical-align: top;\n",
              "    }\n",
              "\n",
              "    .dataframe thead th {\n",
              "        text-align: right;\n",
              "    }\n",
              "</style>\n",
              "<table border=\"1\" class=\"dataframe\">\n",
              "  <thead>\n",
              "    <tr style=\"text-align: right;\">\n",
              "      <th></th>\n",
              "      <th>Postal code</th>\n",
              "      <th>date</th>\n",
              "      <th>n_daily_data_points</th>\n",
              "      <th>dayOfWeek</th>\n",
              "      <th>day_type</th>\n",
              "      <th>BlueCars_taken_sum</th>\n",
              "      <th>BlueCars_returned_sum</th>\n",
              "      <th>Utilib_taken_sum</th>\n",
              "      <th>Utilib_returned_sum</th>\n",
              "      <th>Utilib_14_taken_sum</th>\n",
              "      <th>Utilib_14_returned_sum</th>\n",
              "      <th>Slots_freed_sum</th>\n",
              "      <th>Slots_taken_sum</th>\n",
              "    </tr>\n",
              "  </thead>\n",
              "  <tbody>\n",
              "    <tr>\n",
              "      <th>0</th>\n",
              "      <td>75001</td>\n",
              "      <td>1/1/2018</td>\n",
              "      <td>1440</td>\n",
              "      <td>0</td>\n",
              "      <td>weekday</td>\n",
              "      <td>110</td>\n",
              "      <td>103</td>\n",
              "      <td>3</td>\n",
              "      <td>2</td>\n",
              "      <td>10</td>\n",
              "      <td>9</td>\n",
              "      <td>22</td>\n",
              "      <td>20</td>\n",
              "    </tr>\n",
              "    <tr>\n",
              "      <th>1</th>\n",
              "      <td>75001</td>\n",
              "      <td>1/2/2018</td>\n",
              "      <td>1438</td>\n",
              "      <td>1</td>\n",
              "      <td>weekday</td>\n",
              "      <td>98</td>\n",
              "      <td>94</td>\n",
              "      <td>1</td>\n",
              "      <td>1</td>\n",
              "      <td>8</td>\n",
              "      <td>8</td>\n",
              "      <td>23</td>\n",
              "      <td>22</td>\n",
              "    </tr>\n",
              "    <tr>\n",
              "      <th>2</th>\n",
              "      <td>75001</td>\n",
              "      <td>1/3/2018</td>\n",
              "      <td>1439</td>\n",
              "      <td>2</td>\n",
              "      <td>weekday</td>\n",
              "      <td>138</td>\n",
              "      <td>139</td>\n",
              "      <td>0</td>\n",
              "      <td>0</td>\n",
              "      <td>2</td>\n",
              "      <td>2</td>\n",
              "      <td>27</td>\n",
              "      <td>27</td>\n",
              "    </tr>\n",
              "    <tr>\n",
              "      <th>3</th>\n",
              "      <td>75001</td>\n",
              "      <td>1/4/2018</td>\n",
              "      <td>1320</td>\n",
              "      <td>3</td>\n",
              "      <td>weekday</td>\n",
              "      <td>104</td>\n",
              "      <td>104</td>\n",
              "      <td>2</td>\n",
              "      <td>2</td>\n",
              "      <td>9</td>\n",
              "      <td>8</td>\n",
              "      <td>25</td>\n",
              "      <td>21</td>\n",
              "    </tr>\n",
              "    <tr>\n",
              "      <th>4</th>\n",
              "      <td>75001</td>\n",
              "      <td>1/5/2018</td>\n",
              "      <td>1440</td>\n",
              "      <td>4</td>\n",
              "      <td>weekday</td>\n",
              "      <td>114</td>\n",
              "      <td>117</td>\n",
              "      <td>3</td>\n",
              "      <td>3</td>\n",
              "      <td>6</td>\n",
              "      <td>6</td>\n",
              "      <td>18</td>\n",
              "      <td>20</td>\n",
              "    </tr>\n",
              "  </tbody>\n",
              "</table>\n",
              "</div>\n",
              "      <button class=\"colab-df-convert\" onclick=\"convertToInteractive('df-ff07344f-13eb-47b6-bdf6-eb855b6f64f7')\"\n",
              "              title=\"Convert this dataframe to an interactive table.\"\n",
              "              style=\"display:none;\">\n",
              "        \n",
              "  <svg xmlns=\"http://www.w3.org/2000/svg\" height=\"24px\"viewBox=\"0 0 24 24\"\n",
              "       width=\"24px\">\n",
              "    <path d=\"M0 0h24v24H0V0z\" fill=\"none\"/>\n",
              "    <path d=\"M18.56 5.44l.94 2.06.94-2.06 2.06-.94-2.06-.94-.94-2.06-.94 2.06-2.06.94zm-11 1L8.5 8.5l.94-2.06 2.06-.94-2.06-.94L8.5 2.5l-.94 2.06-2.06.94zm10 10l.94 2.06.94-2.06 2.06-.94-2.06-.94-.94-2.06-.94 2.06-2.06.94z\"/><path d=\"M17.41 7.96l-1.37-1.37c-.4-.4-.92-.59-1.43-.59-.52 0-1.04.2-1.43.59L10.3 9.45l-7.72 7.72c-.78.78-.78 2.05 0 2.83L4 21.41c.39.39.9.59 1.41.59.51 0 1.02-.2 1.41-.59l7.78-7.78 2.81-2.81c.8-.78.8-2.07 0-2.86zM5.41 20L4 18.59l7.72-7.72 1.47 1.35L5.41 20z\"/>\n",
              "  </svg>\n",
              "      </button>\n",
              "      \n",
              "  <style>\n",
              "    .colab-df-container {\n",
              "      display:flex;\n",
              "      flex-wrap:wrap;\n",
              "      gap: 12px;\n",
              "    }\n",
              "\n",
              "    .colab-df-convert {\n",
              "      background-color: #E8F0FE;\n",
              "      border: none;\n",
              "      border-radius: 50%;\n",
              "      cursor: pointer;\n",
              "      display: none;\n",
              "      fill: #1967D2;\n",
              "      height: 32px;\n",
              "      padding: 0 0 0 0;\n",
              "      width: 32px;\n",
              "    }\n",
              "\n",
              "    .colab-df-convert:hover {\n",
              "      background-color: #E2EBFA;\n",
              "      box-shadow: 0px 1px 2px rgba(60, 64, 67, 0.3), 0px 1px 3px 1px rgba(60, 64, 67, 0.15);\n",
              "      fill: #174EA6;\n",
              "    }\n",
              "\n",
              "    [theme=dark] .colab-df-convert {\n",
              "      background-color: #3B4455;\n",
              "      fill: #D2E3FC;\n",
              "    }\n",
              "\n",
              "    [theme=dark] .colab-df-convert:hover {\n",
              "      background-color: #434B5C;\n",
              "      box-shadow: 0px 1px 3px 1px rgba(0, 0, 0, 0.15);\n",
              "      filter: drop-shadow(0px 1px 2px rgba(0, 0, 0, 0.3));\n",
              "      fill: #FFFFFF;\n",
              "    }\n",
              "  </style>\n",
              "\n",
              "      <script>\n",
              "        const buttonEl =\n",
              "          document.querySelector('#df-ff07344f-13eb-47b6-bdf6-eb855b6f64f7 button.colab-df-convert');\n",
              "        buttonEl.style.display =\n",
              "          google.colab.kernel.accessAllowed ? 'block' : 'none';\n",
              "\n",
              "        async function convertToInteractive(key) {\n",
              "          const element = document.querySelector('#df-ff07344f-13eb-47b6-bdf6-eb855b6f64f7');\n",
              "          const dataTable =\n",
              "            await google.colab.kernel.invokeFunction('convertToInteractive',\n",
              "                                                     [key], {});\n",
              "          if (!dataTable) return;\n",
              "\n",
              "          const docLinkHtml = 'Like what you see? Visit the ' +\n",
              "            '<a target=\"_blank\" href=https://colab.research.google.com/notebooks/data_table.ipynb>data table notebook</a>'\n",
              "            + ' to learn more about interactive tables.';\n",
              "          element.innerHTML = '';\n",
              "          dataTable['output_type'] = 'display_data';\n",
              "          await google.colab.output.renderOutput(dataTable, element);\n",
              "          const docLink = document.createElement('div');\n",
              "          docLink.innerHTML = docLinkHtml;\n",
              "          element.appendChild(docLink);\n",
              "        }\n",
              "      </script>\n",
              "    </div>\n",
              "  </div>\n",
              "  "
            ],
            "text/plain": [
              "   Postal code      date  ...  Slots_freed_sum  Slots_taken_sum\n",
              "0        75001  1/1/2018  ...               22               20\n",
              "1        75001  1/2/2018  ...               23               22\n",
              "2        75001  1/3/2018  ...               27               27\n",
              "3        75001  1/4/2018  ...               25               21\n",
              "4        75001  1/5/2018  ...               18               20\n",
              "\n",
              "[5 rows x 13 columns]"
            ]
          },
          "metadata": {},
          "execution_count": 4
        }
      ]
    },
    {
      "cell_type": "code",
      "source": [
        "#  Previewing the bottom of our dataset\n",
        "autolib_data.tail()"
      ],
      "metadata": {
        "colab": {
          "base_uri": "https://localhost:8080/",
          "height": 288
        },
        "id": "WQ6a5a84pAXM",
        "outputId": "dcb4d796-8612-4f8f-8096-7e42abbad882"
      },
      "execution_count": 5,
      "outputs": [
        {
          "output_type": "execute_result",
          "data": {
            "text/html": [
              "\n",
              "  <div id=\"df-c3c1fa54-557d-49ec-ab5d-0c6f26f7e017\">\n",
              "    <div class=\"colab-df-container\">\n",
              "      <div>\n",
              "<style scoped>\n",
              "    .dataframe tbody tr th:only-of-type {\n",
              "        vertical-align: middle;\n",
              "    }\n",
              "\n",
              "    .dataframe tbody tr th {\n",
              "        vertical-align: top;\n",
              "    }\n",
              "\n",
              "    .dataframe thead th {\n",
              "        text-align: right;\n",
              "    }\n",
              "</style>\n",
              "<table border=\"1\" class=\"dataframe\">\n",
              "  <thead>\n",
              "    <tr style=\"text-align: right;\">\n",
              "      <th></th>\n",
              "      <th>Postal code</th>\n",
              "      <th>date</th>\n",
              "      <th>n_daily_data_points</th>\n",
              "      <th>dayOfWeek</th>\n",
              "      <th>day_type</th>\n",
              "      <th>BlueCars_taken_sum</th>\n",
              "      <th>BlueCars_returned_sum</th>\n",
              "      <th>Utilib_taken_sum</th>\n",
              "      <th>Utilib_returned_sum</th>\n",
              "      <th>Utilib_14_taken_sum</th>\n",
              "      <th>Utilib_14_returned_sum</th>\n",
              "      <th>Slots_freed_sum</th>\n",
              "      <th>Slots_taken_sum</th>\n",
              "    </tr>\n",
              "  </thead>\n",
              "  <tbody>\n",
              "    <tr>\n",
              "      <th>16080</th>\n",
              "      <td>95880</td>\n",
              "      <td>6/15/2018</td>\n",
              "      <td>1440</td>\n",
              "      <td>4</td>\n",
              "      <td>weekday</td>\n",
              "      <td>15</td>\n",
              "      <td>10</td>\n",
              "      <td>0</td>\n",
              "      <td>0</td>\n",
              "      <td>2</td>\n",
              "      <td>3</td>\n",
              "      <td>0</td>\n",
              "      <td>0</td>\n",
              "    </tr>\n",
              "    <tr>\n",
              "      <th>16081</th>\n",
              "      <td>95880</td>\n",
              "      <td>6/16/2018</td>\n",
              "      <td>1440</td>\n",
              "      <td>5</td>\n",
              "      <td>weekend</td>\n",
              "      <td>19</td>\n",
              "      <td>19</td>\n",
              "      <td>0</td>\n",
              "      <td>0</td>\n",
              "      <td>2</td>\n",
              "      <td>1</td>\n",
              "      <td>0</td>\n",
              "      <td>0</td>\n",
              "    </tr>\n",
              "    <tr>\n",
              "      <th>16082</th>\n",
              "      <td>95880</td>\n",
              "      <td>6/17/2018</td>\n",
              "      <td>1440</td>\n",
              "      <td>6</td>\n",
              "      <td>weekend</td>\n",
              "      <td>33</td>\n",
              "      <td>35</td>\n",
              "      <td>1</td>\n",
              "      <td>1</td>\n",
              "      <td>0</td>\n",
              "      <td>0</td>\n",
              "      <td>0</td>\n",
              "      <td>0</td>\n",
              "    </tr>\n",
              "    <tr>\n",
              "      <th>16083</th>\n",
              "      <td>95880</td>\n",
              "      <td>6/18/2018</td>\n",
              "      <td>1440</td>\n",
              "      <td>0</td>\n",
              "      <td>weekday</td>\n",
              "      <td>11</td>\n",
              "      <td>14</td>\n",
              "      <td>3</td>\n",
              "      <td>5</td>\n",
              "      <td>2</td>\n",
              "      <td>2</td>\n",
              "      <td>0</td>\n",
              "      <td>0</td>\n",
              "    </tr>\n",
              "    <tr>\n",
              "      <th>16084</th>\n",
              "      <td>95880</td>\n",
              "      <td>6/19/2018</td>\n",
              "      <td>1370</td>\n",
              "      <td>1</td>\n",
              "      <td>weekday</td>\n",
              "      <td>2</td>\n",
              "      <td>2</td>\n",
              "      <td>2</td>\n",
              "      <td>1</td>\n",
              "      <td>0</td>\n",
              "      <td>0</td>\n",
              "      <td>0</td>\n",
              "      <td>0</td>\n",
              "    </tr>\n",
              "  </tbody>\n",
              "</table>\n",
              "</div>\n",
              "      <button class=\"colab-df-convert\" onclick=\"convertToInteractive('df-c3c1fa54-557d-49ec-ab5d-0c6f26f7e017')\"\n",
              "              title=\"Convert this dataframe to an interactive table.\"\n",
              "              style=\"display:none;\">\n",
              "        \n",
              "  <svg xmlns=\"http://www.w3.org/2000/svg\" height=\"24px\"viewBox=\"0 0 24 24\"\n",
              "       width=\"24px\">\n",
              "    <path d=\"M0 0h24v24H0V0z\" fill=\"none\"/>\n",
              "    <path d=\"M18.56 5.44l.94 2.06.94-2.06 2.06-.94-2.06-.94-.94-2.06-.94 2.06-2.06.94zm-11 1L8.5 8.5l.94-2.06 2.06-.94-2.06-.94L8.5 2.5l-.94 2.06-2.06.94zm10 10l.94 2.06.94-2.06 2.06-.94-2.06-.94-.94-2.06-.94 2.06-2.06.94z\"/><path d=\"M17.41 7.96l-1.37-1.37c-.4-.4-.92-.59-1.43-.59-.52 0-1.04.2-1.43.59L10.3 9.45l-7.72 7.72c-.78.78-.78 2.05 0 2.83L4 21.41c.39.39.9.59 1.41.59.51 0 1.02-.2 1.41-.59l7.78-7.78 2.81-2.81c.8-.78.8-2.07 0-2.86zM5.41 20L4 18.59l7.72-7.72 1.47 1.35L5.41 20z\"/>\n",
              "  </svg>\n",
              "      </button>\n",
              "      \n",
              "  <style>\n",
              "    .colab-df-container {\n",
              "      display:flex;\n",
              "      flex-wrap:wrap;\n",
              "      gap: 12px;\n",
              "    }\n",
              "\n",
              "    .colab-df-convert {\n",
              "      background-color: #E8F0FE;\n",
              "      border: none;\n",
              "      border-radius: 50%;\n",
              "      cursor: pointer;\n",
              "      display: none;\n",
              "      fill: #1967D2;\n",
              "      height: 32px;\n",
              "      padding: 0 0 0 0;\n",
              "      width: 32px;\n",
              "    }\n",
              "\n",
              "    .colab-df-convert:hover {\n",
              "      background-color: #E2EBFA;\n",
              "      box-shadow: 0px 1px 2px rgba(60, 64, 67, 0.3), 0px 1px 3px 1px rgba(60, 64, 67, 0.15);\n",
              "      fill: #174EA6;\n",
              "    }\n",
              "\n",
              "    [theme=dark] .colab-df-convert {\n",
              "      background-color: #3B4455;\n",
              "      fill: #D2E3FC;\n",
              "    }\n",
              "\n",
              "    [theme=dark] .colab-df-convert:hover {\n",
              "      background-color: #434B5C;\n",
              "      box-shadow: 0px 1px 3px 1px rgba(0, 0, 0, 0.15);\n",
              "      filter: drop-shadow(0px 1px 2px rgba(0, 0, 0, 0.3));\n",
              "      fill: #FFFFFF;\n",
              "    }\n",
              "  </style>\n",
              "\n",
              "      <script>\n",
              "        const buttonEl =\n",
              "          document.querySelector('#df-c3c1fa54-557d-49ec-ab5d-0c6f26f7e017 button.colab-df-convert');\n",
              "        buttonEl.style.display =\n",
              "          google.colab.kernel.accessAllowed ? 'block' : 'none';\n",
              "\n",
              "        async function convertToInteractive(key) {\n",
              "          const element = document.querySelector('#df-c3c1fa54-557d-49ec-ab5d-0c6f26f7e017');\n",
              "          const dataTable =\n",
              "            await google.colab.kernel.invokeFunction('convertToInteractive',\n",
              "                                                     [key], {});\n",
              "          if (!dataTable) return;\n",
              "\n",
              "          const docLinkHtml = 'Like what you see? Visit the ' +\n",
              "            '<a target=\"_blank\" href=https://colab.research.google.com/notebooks/data_table.ipynb>data table notebook</a>'\n",
              "            + ' to learn more about interactive tables.';\n",
              "          element.innerHTML = '';\n",
              "          dataTable['output_type'] = 'display_data';\n",
              "          await google.colab.output.renderOutput(dataTable, element);\n",
              "          const docLink = document.createElement('div');\n",
              "          docLink.innerHTML = docLinkHtml;\n",
              "          element.appendChild(docLink);\n",
              "        }\n",
              "      </script>\n",
              "    </div>\n",
              "  </div>\n",
              "  "
            ],
            "text/plain": [
              "       Postal code       date  ...  Slots_freed_sum  Slots_taken_sum\n",
              "16080        95880  6/15/2018  ...                0                0\n",
              "16081        95880  6/16/2018  ...                0                0\n",
              "16082        95880  6/17/2018  ...                0                0\n",
              "16083        95880  6/18/2018  ...                0                0\n",
              "16084        95880  6/19/2018  ...                0                0\n",
              "\n",
              "[5 rows x 13 columns]"
            ]
          },
          "metadata": {},
          "execution_count": 5
        }
      ]
    },
    {
      "cell_type": "code",
      "source": [
        "# check the shape of the data\n",
        "autolib_data.shape \n"
      ],
      "metadata": {
        "colab": {
          "base_uri": "https://localhost:8080/"
        },
        "id": "HwFEbEAPo8wC",
        "outputId": "b579cf28-6eaf-495d-ef1a-459599f2e060"
      },
      "execution_count": 6,
      "outputs": [
        {
          "output_type": "execute_result",
          "data": {
            "text/plain": [
              "(16085, 13)"
            ]
          },
          "metadata": {},
          "execution_count": 6
        }
      ]
    },
    {
      "cell_type": "markdown",
      "source": [
        "Our dataset has 16085 records and 13 columns"
      ],
      "metadata": {
        "id": "768pwoLipNsb"
      }
    },
    {
      "cell_type": "markdown",
      "source": [
        "# External Data Source Validation"
      ],
      "metadata": {
        "id": "OcM_zya9qO-U"
      }
    },
    {
      "cell_type": "markdown",
      "source": [
        ""
      ],
      "metadata": {
        "id": "-XX-Snanc7_B"
      }
    },
    {
      "cell_type": "markdown",
      "source": [
        "# Tidying the Dataset"
      ],
      "metadata": {
        "id": "y9vzJM8lqSdc"
      }
    },
    {
      "cell_type": "code",
      "source": [
        "#Inspecting the data\n",
        "print(autolib_data.describe())\n",
        "print(\" \")\n",
        "print(\"*************************************\")\n",
        "print(\" \")\n",
        "print(autolib_data.info())"
      ],
      "metadata": {
        "colab": {
          "base_uri": "https://localhost:8080/"
        },
        "id": "xe1EoBWBqYcF",
        "outputId": "da0b5c16-9035-414c-9eb6-412959179f9b"
      },
      "execution_count": 7,
      "outputs": [
        {
          "output_type": "stream",
          "name": "stdout",
          "text": [
            "        Postal code  n_daily_data_points  ...  Slots_freed_sum  Slots_taken_sum\n",
            "count  16085.000000         16085.000000  ...     16085.000000     16085.000000\n",
            "mean   88791.293876          1431.330619  ...        22.629033        22.629282\n",
            "std     7647.342000            33.212050  ...        52.120263        52.146030\n",
            "min    75001.000000          1174.000000  ...         0.000000         0.000000\n",
            "25%    91330.000000          1439.000000  ...         0.000000         0.000000\n",
            "50%    92340.000000          1440.000000  ...         0.000000         0.000000\n",
            "75%    93400.000000          1440.000000  ...         5.000000         5.000000\n",
            "max    95880.000000          1440.000000  ...       360.000000       359.000000\n",
            "\n",
            "[8 rows x 11 columns]\n",
            " \n",
            "*************************************\n",
            " \n",
            "<class 'pandas.core.frame.DataFrame'>\n",
            "RangeIndex: 16085 entries, 0 to 16084\n",
            "Data columns (total 13 columns):\n",
            " #   Column                  Non-Null Count  Dtype \n",
            "---  ------                  --------------  ----- \n",
            " 0   Postal code             16085 non-null  int64 \n",
            " 1   date                    16085 non-null  object\n",
            " 2   n_daily_data_points     16085 non-null  int64 \n",
            " 3   dayOfWeek               16085 non-null  int64 \n",
            " 4   day_type                16085 non-null  object\n",
            " 5   BlueCars_taken_sum      16085 non-null  int64 \n",
            " 6   BlueCars_returned_sum   16085 non-null  int64 \n",
            " 7   Utilib_taken_sum        16085 non-null  int64 \n",
            " 8   Utilib_returned_sum     16085 non-null  int64 \n",
            " 9   Utilib_14_taken_sum     16085 non-null  int64 \n",
            " 10  Utilib_14_returned_sum  16085 non-null  int64 \n",
            " 11  Slots_freed_sum         16085 non-null  int64 \n",
            " 12  Slots_taken_sum         16085 non-null  int64 \n",
            "dtypes: int64(11), object(2)\n",
            "memory usage: 1.6+ MB\n",
            "None\n"
          ]
        }
      ]
    },
    {
      "cell_type": "code",
      "source": [
        "# check the columns that are in our dataset\n",
        "autolib_data.columns"
      ],
      "metadata": {
        "colab": {
          "base_uri": "https://localhost:8080/"
        },
        "id": "uA8liX0eq91r",
        "outputId": "03f40e82-629d-481d-9b96-5e66e506c624"
      },
      "execution_count": 8,
      "outputs": [
        {
          "output_type": "execute_result",
          "data": {
            "text/plain": [
              "Index(['Postal code', 'date', 'n_daily_data_points', 'dayOfWeek', 'day_type',\n",
              "       'BlueCars_taken_sum', 'BlueCars_returned_sum', 'Utilib_taken_sum',\n",
              "       'Utilib_returned_sum', 'Utilib_14_taken_sum', 'Utilib_14_returned_sum',\n",
              "       'Slots_freed_sum', 'Slots_taken_sum'],\n",
              "      dtype='object')"
            ]
          },
          "metadata": {},
          "execution_count": 8
        }
      ]
    },
    {
      "cell_type": "code",
      "source": [
        "# check for unique values in our financial dataset\n",
        "autolib_data.nunique()"
      ],
      "metadata": {
        "colab": {
          "base_uri": "https://localhost:8080/"
        },
        "id": "sPE_ZsLitFYk",
        "outputId": "edf77e9f-eb23-4c70-b578-02ceb5f6ef25"
      },
      "execution_count": 9,
      "outputs": [
        {
          "output_type": "execute_result",
          "data": {
            "text/plain": [
              "Postal code               104\n",
              "date                      156\n",
              "n_daily_data_points        23\n",
              "dayOfWeek                   7\n",
              "day_type                    2\n",
              "BlueCars_taken_sum        932\n",
              "BlueCars_returned_sum     929\n",
              "Utilib_taken_sum           48\n",
              "Utilib_returned_sum        49\n",
              "Utilib_14_taken_sum        92\n",
              "Utilib_14_returned_sum     94\n",
              "Slots_freed_sum           297\n",
              "Slots_taken_sum           301\n",
              "dtype: int64"
            ]
          },
          "metadata": {},
          "execution_count": 9
        }
      ]
    },
    {
      "cell_type": "code",
      "source": [
        "#  checking this for specific columns\n",
        "autolib_data['Postal code'].unique()"
      ],
      "metadata": {
        "colab": {
          "base_uri": "https://localhost:8080/"
        },
        "id": "EVm5CyoTt_HF",
        "outputId": "ab11cd66-6882-46c4-f010-503c64fc5de1"
      },
      "execution_count": 10,
      "outputs": [
        {
          "output_type": "execute_result",
          "data": {
            "text/plain": [
              "array([75001, 75002, 75003, 75004, 75005, 75006, 75007, 75008, 75009,\n",
              "       75010, 75011, 75012, 75013, 75014, 75015, 75016, 75017, 75018,\n",
              "       75019, 75020, 75112, 75116, 78000, 78140, 78150, 91330, 91370,\n",
              "       91400, 92000, 92100, 92110, 92120, 92130, 92140, 92150, 92160,\n",
              "       92170, 92190, 92200, 92210, 92220, 92230, 92240, 92250, 92260,\n",
              "       92270, 92290, 92300, 92310, 92320, 92330, 92340, 92350, 92360,\n",
              "       92370, 92380, 92390, 92400, 92410, 92420, 92500, 92600, 92700,\n",
              "       92800, 93100, 93110, 93130, 93150, 93170, 93200, 93230, 93260,\n",
              "       93300, 93310, 93350, 93360, 93370, 93390, 93400, 93440, 93500,\n",
              "       93600, 93700, 93800, 94000, 94100, 94110, 94120, 94130, 94140,\n",
              "       94150, 94160, 94220, 94230, 94300, 94340, 94410, 94450, 94500,\n",
              "       94700, 94800, 95100, 95870, 95880])"
            ]
          },
          "metadata": {},
          "execution_count": 10
        }
      ]
    },
    {
      "cell_type": "code",
      "source": [
        "#  checking this for specific columns\n",
        "autolib_data['date'].unique()"
      ],
      "metadata": {
        "colab": {
          "base_uri": "https://localhost:8080/"
        },
        "id": "kcSVkW7_ugAX",
        "outputId": "5c97ae5f-c499-46ae-c6db-9a5c8c93f78a"
      },
      "execution_count": 11,
      "outputs": [
        {
          "output_type": "execute_result",
          "data": {
            "text/plain": [
              "array(['1/1/2018', '1/2/2018', '1/3/2018', '1/4/2018', '1/5/2018',\n",
              "       '1/6/2018', '1/7/2018', '1/8/2018', '1/9/2018', '1/10/2018',\n",
              "       '1/11/2018', '1/12/2018', '1/13/2018', '1/14/2018', '1/15/2018',\n",
              "       '1/16/2018', '1/17/2018', '1/18/2018', '1/19/2018', '1/20/2018',\n",
              "       '1/21/2018', '1/22/2018', '1/23/2018', '1/24/2018', '1/25/2018',\n",
              "       '1/26/2018', '1/27/2018', '1/28/2018', '1/29/2018', '1/30/2018',\n",
              "       '1/31/2018', '2/1/2018', '2/2/2018', '2/3/2018', '2/4/2018',\n",
              "       '2/5/2018', '2/6/2018', '2/7/2018', '2/8/2018', '2/9/2018',\n",
              "       '2/10/2018', '2/11/2018', '2/12/2018', '2/13/2018', '2/14/2018',\n",
              "       '2/15/2018', '2/16/2018', '2/17/2018', '2/18/2018', '2/19/2018',\n",
              "       '2/20/2018', '2/21/2018', '2/22/2018', '2/23/2018', '2/24/2018',\n",
              "       '2/28/2018', '3/1/2018', '3/2/2018', '3/3/2018', '3/4/2018',\n",
              "       '3/5/2018', '3/6/2018', '3/7/2018', '3/8/2018', '3/9/2018',\n",
              "       '3/10/2018', '3/11/2018', '3/12/2018', '3/13/2018', '3/14/2018',\n",
              "       '3/15/2018', '3/16/2018', '3/17/2018', '3/18/2018', '3/19/2018',\n",
              "       '3/20/2018', '3/21/2018', '3/22/2018', '3/23/2018', '3/24/2018',\n",
              "       '3/25/2018', '3/26/2018', '3/27/2018', '3/28/2018', '3/29/2018',\n",
              "       '3/30/2018', '3/31/2018', '4/1/2018', '4/2/2018', '4/3/2018',\n",
              "       '4/4/2018', '4/5/2018', '4/6/2018', '4/7/2018', '4/8/2018',\n",
              "       '4/9/2018', '4/10/2018', '4/11/2018', '4/12/2018', '4/13/2018',\n",
              "       '4/14/2018', '4/15/2018', '4/16/2018', '4/17/2018', '4/18/2018',\n",
              "       '4/19/2018', '4/20/2018', '4/21/2018', '4/22/2018', '4/23/2018',\n",
              "       '4/24/2018', '4/25/2018', '4/26/2018', '4/27/2018', '4/28/2018',\n",
              "       '4/29/2018', '4/30/2018', '5/1/2018', '5/2/2018', '5/3/2018',\n",
              "       '5/4/2018', '5/5/2018', '5/6/2018', '5/7/2018', '5/8/2018',\n",
              "       '5/20/2018', '5/21/2018', '5/22/2018', '5/23/2018', '5/24/2018',\n",
              "       '5/25/2018', '5/26/2018', '5/27/2018', '5/28/2018', '5/29/2018',\n",
              "       '5/30/2018', '5/31/2018', '6/1/2018', '6/2/2018', '6/3/2018',\n",
              "       '6/4/2018', '6/5/2018', '6/6/2018', '6/7/2018', '6/8/2018',\n",
              "       '6/9/2018', '6/10/2018', '6/11/2018', '6/12/2018', '6/13/2018',\n",
              "       '6/14/2018', '6/15/2018', '6/16/2018', '6/17/2018', '6/18/2018',\n",
              "       '6/19/2018'], dtype=object)"
            ]
          },
          "metadata": {},
          "execution_count": 11
        }
      ]
    },
    {
      "cell_type": "code",
      "source": [
        "#  checking this for specific columns\n",
        "autolib_data['n_daily_data_points'].unique()"
      ],
      "metadata": {
        "colab": {
          "base_uri": "https://localhost:8080/"
        },
        "id": "RSXBQVsXugo-",
        "outputId": "ac984ab3-1ebb-4142-f0a6-7242efac8990"
      },
      "execution_count": 12,
      "outputs": [
        {
          "output_type": "execute_result",
          "data": {
            "text/plain": [
              "array([1440, 1438, 1439, 1320, 1437, 1434, 1398, 1420, 1425, 1396, 1429,\n",
              "       1389, 1380, 1364, 1318, 1377, 1203, 1417, 1435, 1174, 1436, 1411,\n",
              "       1370])"
            ]
          },
          "metadata": {},
          "execution_count": 12
        }
      ]
    },
    {
      "cell_type": "code",
      "source": [
        "#  checking this for specific columns\n",
        "autolib_data['dayOfWeek'].unique()"
      ],
      "metadata": {
        "colab": {
          "base_uri": "https://localhost:8080/"
        },
        "id": "rDh402QWuhEE",
        "outputId": "413892f7-6038-4e86-d8a0-d22ac3972bdc"
      },
      "execution_count": 13,
      "outputs": [
        {
          "output_type": "execute_result",
          "data": {
            "text/plain": [
              "array([0, 1, 2, 3, 4, 5, 6])"
            ]
          },
          "metadata": {},
          "execution_count": 13
        }
      ]
    },
    {
      "cell_type": "code",
      "source": [
        "#  checking this for specific columns\n",
        "autolib_data['day_type'].unique()"
      ],
      "metadata": {
        "colab": {
          "base_uri": "https://localhost:8080/"
        },
        "id": "LHkitySguiGq",
        "outputId": "70cb9445-f037-46d4-c399-1d5512feae4e"
      },
      "execution_count": 14,
      "outputs": [
        {
          "output_type": "execute_result",
          "data": {
            "text/plain": [
              "array(['weekday', 'weekend'], dtype=object)"
            ]
          },
          "metadata": {},
          "execution_count": 14
        }
      ]
    },
    {
      "cell_type": "code",
      "source": [
        "#  checking this for specific columns\n",
        "autolib_data['BlueCars_taken_sum'].unique()"
      ],
      "metadata": {
        "colab": {
          "base_uri": "https://localhost:8080/"
        },
        "id": "5ikmevepuiD7",
        "outputId": "39b3b6d0-9670-404d-ab74-37dae449bb7c"
      },
      "execution_count": 15,
      "outputs": [
        {
          "output_type": "execute_result",
          "data": {
            "text/plain": [
              "array([ 110,   98,  138,  104,  114,  187,  180,   84,   81,   88,  125,\n",
              "        126,  224,  193,  107,  116,  118,  122,  130,  217,  143,  123,\n",
              "        112,  108,  145,  216,  190,   83,  103,  146,  199,  186,  121,\n",
              "        113,  109,  207,  160,  115,   94,   99,  119,  176,  157,   85,\n",
              "        100,  135,    8,   92,  127,  136,  192,  168,  102,  134,  197,\n",
              "        173,  131,  196,  150,  156,  231,  105,  219,  179,  124,  188,\n",
              "        139,   97,  120,  159,  147,  151,  129,  152,  142,  141,  202,\n",
              "        175,   96,  133,  254,  137,  185,  203,    6,  166,  165,  243,\n",
              "        264,  213,  164,  163,  191,  276,  210,  183,  148,  270,  128,\n",
              "        280,  178,  153,  158,  259,  161,  240,   12,  181,  140,  263,\n",
              "        167,  177,  250,  208,  171,  266,  155,  247,  154,  184,  293,\n",
              "        228,  182,  144,  218,  162,  239,  200,  170,  174,  172,  245,\n",
              "          5,  195,  237,  331,  283,  212,  211,  380,  356,  233,  220,\n",
              "        238,  384,  313,  229,  221,  201,  350,  327,  223,  226,  234,\n",
              "        262,  361,  335,  205,  198,  346,  303,  236,  341,  277,  206,\n",
              "         25,  230,  330,  286,  265,  251,  412,  340,  227,  357,  319,\n",
              "        189,  375,  326,  311,  284,  255,  209,  215,  323,  256,  204,\n",
              "        214,  382,  315,  310,  333,  260,  297,  258,  241,  235,  349,\n",
              "        305,  290,  275,  194,  307,  328,  242,  308,  279,  288,  320,\n",
              "        273,  261,  169,  344,  334,  291,  294,  278,  287,  149,  370,\n",
              "         18,  257,  397,  365,  298,  299,  321,  490,  427,  269,  451,\n",
              "        363,  339,  317,  416,  449,  296,  306,  475,  348,  446,  343,\n",
              "        324,  304,  342,  355,  267,   37,  253,  401,  407,  396,  282,\n",
              "        281,  271,  395,  345,  325,  292,  369,  232,  318,  309,  300,\n",
              "        314,  373,  302,  377,  353,  312,  347,  268,  403,  364,  289,\n",
              "        252,  301,  376,   29,  405,  366,  225,   24,  421,  244,  391,\n",
              "        272,  246,  222,  248,  374,  387,  359,   13,  249,  336,  337,\n",
              "        274,  372,  394,  379,  411,  354,  295,   20,  368,  285,  322,\n",
              "        409,  358,  360,  400,  393,  332,  386,  422,  430,  426,  442,\n",
              "        398,  415,  525,  471,  455,  458,  462,  551,  520,  452,  453,\n",
              "        467,  487,  428,  482,  495,  435,  464,  480,  417,  577,  437,\n",
              "        418,  489,  431,  383,  414,  399,   26,  425,  419,  447,  459,\n",
              "        505,  463,  424,  468,  491,  492,  476,  473,  423,  433,  494,\n",
              "        516,  338,  478,  497,  469,  465,  537,  479,  474,  524,  413,\n",
              "        371,  466,  432,  434,  316,  450,  589,  501,  528,  533,  484,\n",
              "        460,  521,  518,  486,  488,  485,  500,   21,  378,  503,  367,\n",
              "         27,  329,  385,  457,  352,  351,  381,  420,  390,  477,  440,\n",
              "        461,  443,  388,   56,  438,  441,  402,  408,  406,   16,  499,\n",
              "        688,  557,  738,  599,  445,  714,  613,  404,  679,  529,  456,\n",
              "        702,  598,  654,  602,  534,  563,   69,  444,  483,  737,  655,\n",
              "        594,  697,  536,  612,  579,  507,  658,  593,  454,  584,  362,\n",
              "        436,  552,  472,  481,  470,  539,  648,  569,  581,  631,  561,\n",
              "        540,  576,  496,  696,  554,  389,   49,  502,  605,  634,  515,\n",
              "        764,  673,  535,  735,  666,  690,  642,  448,  549,  816,  609,\n",
              "        672,  617,  541,  724,   46,  439,  614,  519,  661,  645,  514,\n",
              "        637,  410,  710,  590,  506,  610,  623,  493,  703,  542,  657,\n",
              "        713,  504,  585,  580,  517,  727,  708,  680,  687,  550,  734,\n",
              "        636,  624,  722,  659,  616,  767,  647,  508,  575,  725,  684,\n",
              "        792,  646,  682,  523,  618,  660,  649,  543,   36,  513,  733,\n",
              "        695,  544,  681,  511,  643,  532,  700,  652,  498,  510,  603,\n",
              "        560,  664,  555,  568,  651,  526,  564,  538,  800,  709,  556,\n",
              "        826,  747,  567,  573,  662,   30,  429,  677,  640,  611,  712,\n",
              "        650,  559,  625,   39,  632,  620,  546,  586,  601,  592,  698,\n",
              "        678,  653,  691,  781,  739,  669,  852, 1061,  913,  694,  791,\n",
              "        810,  881, 1255, 1097,  753,  885,  831,  950, 1352, 1132,  751,\n",
              "        718,  784,  871,  963, 1248, 1014,  721,  732,  880,  942, 1327,\n",
              "       1043,  808,  794, 1118, 1036,  723,  874,  872,  943, 1144, 1037,\n",
              "        757,  765,  827,   58,  897, 1136,  999,  829,  805,  790,  907,\n",
              "       1127, 1038,  766,  811,  818,  898, 1209,  980,  746,  819,  813,\n",
              "        946, 1186,  981,  797,  884,  833,  867, 1024,  939,  839,  756,\n",
              "        926,  893,  875, 1277, 1082,  887,  962,  955, 1005, 1002,  774,\n",
              "        936, 1023,  925,  984,  899,  877,  857,  865,  773,  944, 1155,\n",
              "       1016,  840,  931,  856,  938, 1335, 1152,  861,  888,  985,  932,\n",
              "       1089, 1338, 1164,  864,  994, 1032,  968, 1087, 1330,  973,  920,\n",
              "       1093, 1001,  693,  638,  741,  847,  842,  668,  768,  715,  835,\n",
              "        918,  786,  728,  908, 1062,  989,  796, 1069,  795, 1065,  905,\n",
              "        760,  755,  630,  982,  665,  843,  824,  953,  583,  748,  719,\n",
              "        772,  770,  683,  814, 1003,  853,  793,  830,  804,  783, 1015,\n",
              "        854,  780,  987,  628,  825,  799,  787,  777,  817,  789, 1020,\n",
              "        894,  761,  850,  919,  686,  729,  606,  731,  742,  801, 1088,\n",
              "        758,  812,  745,  912,  978,  866,  862,  860,  917,  846, 1080,\n",
              "        802,  837,  832,  890, 1006,  901,  844,  909,  988,  845,  548,\n",
              "        553,  705,  928,  692,  776,  992,  701,  945,  635,  929,  716,\n",
              "        754,  706,  644,  873,  803,  604,   51,  629,  740,  782,  991,\n",
              "        785,  806,  763,  736,  977,  834,  762,  798,  720,  868,  752,\n",
              "        667,  809,  974,  707,  744,  749,  923,  859,   38,  392,  547,\n",
              "        587,  566,  530,   48,  596,  582,  562,  588,  591,  522,  730,\n",
              "        704,  670,  627,   55,  676,  531,  622,  639,  545,  527,   31,\n",
              "        619,  615,  633,  571,   47,  512,  600,  626,  558,    7,   11,\n",
              "          3,    4,   10,    9,   14,   17,   19,    0,    2,   15,    1,\n",
              "         23,   71,   43,   35,   68,   67,   28,   64,   70,   33,   80,\n",
              "         63,   40,   45,   62,   34,   32,   59,   41,   52,   74,   75,\n",
              "         66,   78,   44,   65,   93,   57,   50,   53,   72,   54,   82,\n",
              "         76,   22,   42,   60,  132,   79,   61,  106,   73,   89,   95,\n",
              "         91,   90,   87,  111,   77,   86,  101,  117])"
            ]
          },
          "metadata": {},
          "execution_count": 15
        }
      ]
    },
    {
      "cell_type": "code",
      "source": [
        "#  checking this for specific columns\n",
        "autolib_data['BlueCars_returned_sum'].unique()"
      ],
      "metadata": {
        "colab": {
          "base_uri": "https://localhost:8080/"
        },
        "id": "0Xq4ir3ouiAj",
        "outputId": "c0fa9647-9084-4d3e-ed43-0f03b167b8a3"
      },
      "execution_count": 16,
      "outputs": [
        {
          "output_type": "execute_result",
          "data": {
            "text/plain": [
              "array([ 103,   94,  139,  104,  117,  185,  180,   83,   84,   85,  125,\n",
              "        127,  223,  193,  107,  116,  118,  122,  130,  217,  150,  113,\n",
              "        146,  218,  189,   81,  110,  147,  204,  121,   99,  112,  109,\n",
              "        207,  165,  111,   93,  119,  176,  158,   86,   98,  135,    9,\n",
              "         91,  131,  137,  138,  208,  177,  124,  101,  145,  203,  169,\n",
              "         96,  136,  142,  196,  154,  100,   97,  144,  128,  179,  151,\n",
              "        115,  232,  105,  219,  143,  190,  102,  159,  155,  156,  120,\n",
              "        141,  201,  133,  253,  199,   95,  108,  188,  126,  206,  174,\n",
              "          7,  244,  197,  153,  264,  148,  164,  277,  213,  149,  175,\n",
              "        270,  198,  280,  161,  178,  152,  160,  257,  205,  240,  123,\n",
              "        157,   12,  265,  186,  173,  140,  171,  167,  255,  209,  170,\n",
              "        266,  248,  243,  183,  292,  222,  134,  236,  132,  181,  172,\n",
              "        184,  168,  162,  237,  163,  233,  202,  283,  192,  252,  211,\n",
              "          6,  250,  187,  229,  249,  338,  293,  214,  212,  228,  379,\n",
              "        359,  220,  225,  245,  400,  307,  221,  224,  367,  334,  274,\n",
              "        344,  340,  317,  235,  342,  290,  182,  241,  332,  297,  195,\n",
              "        231,  414,  329,  210,  366,  319,  247,  376,  331,  322,  271,\n",
              "        328,  267,  377,  311,  281,  339,  305,  216,  258,  284,  238,\n",
              "        326,  275,  330,  318,  304,   21,  166,  279,  310,  315,  300,\n",
              "        352,  269,  254,   19,  191,  333,  259,  295,  262,  256,  242,\n",
              "        341,  272,  285,  288,  230,  278,  303,   13,  407,  356,  476,\n",
              "        433,  302,  343,  456,  372,  291,  308,  301,  429,  467,  321,\n",
              "        466,  358,  306,  438,  313,  299,  355,  362,   16,  312,  287,\n",
              "        261,  401,  405,  260,  413,  337,  298,  309,  398,  375,  316,\n",
              "        286,  426,  363,  289,  320,  382,  314,  349,  294,  364,  346,\n",
              "        369,  411,  378,  371,   17,  399,  234,  383,  227,  194,  403,\n",
              "        325,  268,  200,  423,  350,  394,  365,  246,  327,  226,  370,\n",
              "        347,  273,  282,  296,  408,  389,  418,  324,  239,  251,  416,\n",
              "        360,  393,  396,    8,  276,  409,  424,  435,  442,  412,  532,\n",
              "        492,  430,  422,  460,  459,  552,  545,  448,  441,  465,  477,\n",
              "        428,  488,  519,  390,  406,  478,  594,  380,  420,  449,  368,\n",
              "        402,   22,  427,  446,  421,  457,  471,  528,  454,  388,  496,\n",
              "        523,  469,  445,  453,  447,  525,  417,  464,  506,  512,  425,\n",
              "        351,  432,  494,  484,  529,  483,  498,  535,  443,  458,  392,\n",
              "        395,  434,  462,  391,  348,  444,  568,  461,  463,  508,  482,\n",
              "        534,  481,  472,  518,  485,  480,  415,  419,   18,  336,  335,\n",
              "        455,  521,  517,  436,  263,  440,  499,  410,  345,  474,  381,\n",
              "        323,  361,  384,  354,  387,  439,  479,  468,  450,   35,  353,\n",
              "        397,  215,   23,  513,  674,  490,  716,  641,  713,  644,  386,\n",
              "        431,  690,  569,  507,  711,  602,  613,  570,   62,  595,  563,\n",
              "        437,  493,  630,  404,  658,  629,  682,  557,  625,  501,  567,\n",
              "        676,  622,  596,  526,  548,  579,  522,  516,  373,  510,  451,\n",
              "        659,  649,  605,  475,  667,  559,  561,  489,  547,  688,  584,\n",
              "         44,  611,  621,  770,  687,  509,  758,  655,  473,  717,  536,\n",
              "        798,  618,  669,  603,  541,  671,  735,  487,   61,  651,  593,\n",
              "        656,  642,  581,  686,  607,  608,  673,  684,  520,  666,  685,\n",
              "        564,  497,  571,  647,  725,  503,  694,  724,  696,  549,  707,\n",
              "        645,   41,  550,  617,  695,  670,  633,  745,  679,  514,  589,\n",
              "        712,  504,  538,  560,  783,  524,  592,  634,   56,  639,  572,\n",
              "        693,  546,  678,  606,  544,  627,  598,  530,  533,  648,  537,\n",
              "        600,  614,  551,  565,  704,  531,  554,  575,  785,  543,  573,\n",
              "        824,  742,  578,  698,  680,   39,  582,  654,  646,  672,  624,\n",
              "        385,  597,   42,  638,  631,  553,  615,  577,  566,  635,  374,\n",
              "        558,  495,  632,  650,   27,  843,  720,  752,  846, 1015,  971,\n",
              "        728,  801,  806,  815,  863, 1211, 1135,  778,  773,  894,  828,\n",
              "        952, 1300, 1149,  791,  721,  838, 1214, 1049,  746,  839,  837,\n",
              "        919, 1287, 1118,  807,  793, 1136, 1066,  726,  731,  874,  862,\n",
              "        928, 1117, 1072,  762,  756,  805,  860, 1057,  747,  830,  865,\n",
              "       1111, 1119,  734,  819, 1210, 1046,  780,  972, 1142, 1033,  706,\n",
              "        792,  869,  967,  979,  873,  767,  893,  891,  840, 1171, 1189,\n",
              "        875,  942,  995,  963, 1133, 1051,  775,  763,  736,  857, 1017,\n",
              "        708,  826,  853,  947,  910,  877,  854, 1146, 1045,  907,  867,\n",
              "        813,  911, 1032, 1276, 1271,  892,  982,  948, 1039, 1294, 1230,\n",
              "       1004, 1010, 1040, 1332, 1143,  880,  914,  970,  930, 1056, 1154,\n",
              "       1090,   52,  660,  868,  851,  662,  675,  741,  749,  973,  940,\n",
              "        755,  776,  901, 1077, 1003,  753,  702,  769, 1061,  890,  787,\n",
              "        808,  887, 1044,  733,  989,  705,  831,  871,  818,  954,  585,\n",
              "        681,  761,   60,  628,  715,  790,  759,  692,  739,  789,  990,\n",
              "        833,  784,  984,  847,  765,  821, 1020,  861,  616,  777,  729,\n",
              "        842,  832,  834,  797,  779,  915,  898,  623,  714,  710,  599,\n",
              "        816,  620,  664,  697,  802,  804, 1064,  881,  743,  760,  903,\n",
              "        966,  987,  878,  902,  889, 1076,  855,  885,  996,  879,  906,\n",
              "         40,  542,  703,  904,  677,  939,  981,  612,  938,  958,  771,\n",
              "        917,  852,  643,  709,  718,  845,  590,  663,   57,  864,  700,\n",
              "        969,  610,  738,  757,  730,  754,  983,  975,  949,  737,  823,\n",
              "        876,  665,  768,  786,  772,  965,  897,  883,  539,  357,  502,\n",
              "        586,   53,  604,  527,  583,  470,  580,  591,  576,  652,  744,\n",
              "        689,  683,  486,  699,  701,   79,  500,  722,  556,  811,  515,\n",
              "        661,  653,  587,   75,  588,  601,  555,  562,  637,  505,   55,\n",
              "          5,   10,   20,   11,    3,    4,   14,   15,    1,    0,   24,\n",
              "          2,   49,   31,   34,   65,   25,   30,   38,   54,   76,   32,\n",
              "         45,   50,   37,   36,   28,   74,   69,   33,   29,   58,   47,\n",
              "         48,   71,   43,   66,   26,   51,   59,   63,   46,   68,   67,\n",
              "         64,   90,  129,   77,   78,   80,   89,   88,   87,   72,  106,\n",
              "         92,   70,   73,  114,   82])"
            ]
          },
          "metadata": {},
          "execution_count": 16
        }
      ]
    },
    {
      "cell_type": "code",
      "source": [
        "#  checking this for specific columns\n",
        "autolib_data['Utilib_taken_sum'].unique()"
      ],
      "metadata": {
        "colab": {
          "base_uri": "https://localhost:8080/"
        },
        "id": "9B3zpdkauh9x",
        "outputId": "8fde1e42-87b2-482f-eb42-994fcc76384d"
      },
      "execution_count": 17,
      "outputs": [
        {
          "output_type": "execute_result",
          "data": {
            "text/plain": [
              "array([ 3,  1,  0,  2,  6,  5,  4,  7,  8,  9, 11, 17, 10, 13, 18, 12, 15,\n",
              "       16, 21, 19, 14, 34, 31, 23, 20, 22, 24, 29, 25, 28, 26, 27, 46, 32,\n",
              "       30, 43, 38, 37, 40, 45, 54, 36, 35, 39, 42, 33, 41, 47])"
            ]
          },
          "metadata": {},
          "execution_count": 17
        }
      ]
    },
    {
      "cell_type": "code",
      "source": [
        "#  checking this for specific columns\n",
        "autolib_data['Utilib_returned_sum'].unique()"
      ],
      "metadata": {
        "colab": {
          "base_uri": "https://localhost:8080/"
        },
        "id": "vhD8afCguh6B",
        "outputId": "5a65393c-0735-40a7-8c2d-81bedccabdea"
      },
      "execution_count": 18,
      "outputs": [
        {
          "output_type": "execute_result",
          "data": {
            "text/plain": [
              "array([ 2,  1,  0,  3,  6,  5,  4,  7,  8,  9, 11, 17, 10, 13, 18, 14, 15,\n",
              "       12, 21, 20, 16, 19, 35, 32, 23, 22, 24, 25, 27, 26, 30, 49, 28, 31,\n",
              "       29, 43, 38, 39, 36, 34, 47, 45, 33, 58, 41, 37, 42, 40, 44])"
            ]
          },
          "metadata": {},
          "execution_count": 18
        }
      ]
    },
    {
      "cell_type": "code",
      "source": [
        "#  checking this for specific columns\n",
        "autolib_data['Utilib_14_taken_sum'].unique()"
      ],
      "metadata": {
        "colab": {
          "base_uri": "https://localhost:8080/"
        },
        "id": "7zGT4tjkuh0O",
        "outputId": "070f5033-b789-4f1a-e287-724d68b0dee1"
      },
      "execution_count": 19,
      "outputs": [
        {
          "output_type": "execute_result",
          "data": {
            "text/plain": [
              "array([ 10,   8,   2,   9,   6,   7,   4,  11,  13,  12,  15,  25,   5,\n",
              "        14,   3,  17,  16,   0,   1,  21,  18,  19,  22,  20,  27,  23,\n",
              "        24,  29,  26,  28,  30,  33,  41,  36,  34,  40,  50,  45,  32,\n",
              "        31,  35,  37,  42,  38,  48,  47,  52,  39,  53,  43,  56,  51,\n",
              "        75,  49,  55,  44,  46,  54,  57,  61,  60,  70,  58,  68,  62,\n",
              "        64,  59,  66,  63,  65,  72,  89,  82,  69,  71,  79,  84,  73,\n",
              "        81,  80,  67,  90, 100,  91,  85,  74,  76,  94,  78,  95,  87,\n",
              "        93])"
            ]
          },
          "metadata": {},
          "execution_count": 19
        }
      ]
    },
    {
      "cell_type": "code",
      "source": [
        "#  checking this for specific columns\n",
        "autolib_data['Utilib_14_returned_sum'].unique()"
      ],
      "metadata": {
        "colab": {
          "base_uri": "https://localhost:8080/"
        },
        "id": "nmlfI8Xiuhpk",
        "outputId": "c1aed0f3-9087-450f-e212-6c049b502981"
      },
      "execution_count": 20,
      "outputs": [
        {
          "output_type": "execute_result",
          "data": {
            "text/plain": [
              "array([  9,   8,   2,   6,  10,   4,  11,  13,  12,  15,   7,  25,   5,\n",
              "        14,   3,  17,  16,   0,   1,  21,  18,  19,  20,  22,  27,  23,\n",
              "        24,  29,  34,  41,  28,  35,  32,  30,  26,  33,  43,  50,  44,\n",
              "        31,  36,  40,  38,  48,  37,  47,  53,  45,  39,  51,  54,  52,\n",
              "        46,  74,  42,  57,  49,  60,  63,  61,  55,  66,  59,  58,  67,\n",
              "        68,  62,  64,  71,  56,  69,  84,  70,  72,  86,  76,  80,  89,\n",
              "        73,  94,  79,  65,  93,  78,  75,  77,  82,  85,  88, 101,  87,\n",
              "        90,  96,  83])"
            ]
          },
          "metadata": {},
          "execution_count": 20
        }
      ]
    },
    {
      "cell_type": "code",
      "source": [
        "#  checking this for specific columns\n",
        "autolib_data['Slots_freed_sum'].unique()"
      ],
      "metadata": {
        "colab": {
          "base_uri": "https://localhost:8080/"
        },
        "id": "x2T9CRtvxM_v",
        "outputId": "cc8baa1e-9c5b-44b4-eccf-6e7d2a3f185d"
      },
      "execution_count": 21,
      "outputs": [
        {
          "output_type": "execute_result",
          "data": {
            "text/plain": [
              "array([ 22,  23,  27,  25,  18,  38,  34,  14,  15,  11,  19,  16,  21,\n",
              "        17,  41,  24,  20,  35,  36,  32,  13,  28,  12,  26,   0,  48,\n",
              "        30,  29,  31,  47,  33,  40,  37,   9,  10,  43,  44,  49,  39,\n",
              "        42,  45,  51,  46,  59,  64,  56,  52,   1,  50,  95,  84,  83,\n",
              "        81,  58,  61,  67, 101,  86,  63,  97,  60,  57,  65,  80,  79,\n",
              "        77,  54,  85,  75,  73,  55,   3,  62,  82,  71,  69,  74,  89,\n",
              "        91, 109,  70,  76,  72,  68,  78,  53,  66,  87,   2,   5, 120,\n",
              "       111,  92, 110,  88, 103, 142, 115, 105, 113, 121,  96,  90, 134,\n",
              "       140, 130,  94,  99, 128, 100, 129,  98, 118, 106, 119, 117, 102,\n",
              "       107,  93, 135, 104, 122, 133, 108, 112, 116, 123, 136, 126,   6,\n",
              "       114, 132, 177, 167, 125, 124, 131, 143, 139, 137, 153, 180, 157,\n",
              "       162, 152, 151, 149, 156, 145, 173, 147, 211, 127, 141, 161, 144,\n",
              "       163, 138, 171, 158, 148, 168, 154, 166, 150, 170, 146, 165, 178,\n",
              "       174, 175, 176, 181, 190, 160, 184, 205, 253, 252, 155, 193, 204,\n",
              "       221, 214, 169, 197, 196, 200, 199, 191, 185, 183, 208, 159, 218,\n",
              "       215, 179, 216, 203, 186, 206,   7, 192, 172, 202, 236, 274, 195,\n",
              "       222, 239, 213, 229, 188, 201, 240, 164, 226, 220, 182,   8, 194,\n",
              "       248, 289, 286, 234, 302, 254, 189, 235, 319, 277, 284, 360, 249,\n",
              "       237, 305, 263, 271, 272, 209, 301, 278, 251, 322, 232, 207, 228,\n",
              "       283, 344, 282, 212, 330, 309, 225, 217, 357, 280, 257, 300, 273,\n",
              "       250, 288, 339, 292, 242, 262, 308, 285, 198, 241, 264, 267, 335,\n",
              "       293, 310, 219, 224, 187, 230, 223, 269, 258, 210, 233, 246, 255,\n",
              "       259, 227, 244, 245, 231, 270, 275, 243, 296, 334,   4])"
            ]
          },
          "metadata": {},
          "execution_count": 21
        }
      ]
    },
    {
      "cell_type": "code",
      "source": [
        "#  checking this for specific columns\n",
        "autolib_data['Slots_taken_sum'].unique()"
      ],
      "metadata": {
        "colab": {
          "base_uri": "https://localhost:8080/"
        },
        "id": "bqKjQ1z2xUe8",
        "outputId": "1c9c3d14-0d2d-4657-ebb6-85e96bf2f626"
      },
      "execution_count": 22,
      "outputs": [
        {
          "output_type": "execute_result",
          "data": {
            "text/plain": [
              "array([ 20,  22,  27,  21,  35,  34,  15,  13,  38,  19,  39,  25,  14,\n",
              "         9,  37,  36,  30,  16,  11,  28,  33,  18,  12,   0,  31,  23,\n",
              "        26,  50,  17,  40,  24,  48,  32,   8,  29,  42,  43,  49,  45,\n",
              "        41,  44,  52,  59,  46,  65,  47,  57,  51,   1,  97,  87,  54,\n",
              "        84,  83,  60,  69, 103,  58,  62,  92,  67,  78,  82,  77,  53,\n",
              "        88,  72,  66,  99,  64,  55,  75, 113,  63,  74,  71,  89,  68,\n",
              "        81,  73,  70,  61,  79,  56,  76,  86,   2, 118, 108, 107, 144,\n",
              "       114,  93, 105, 106, 115, 122,  90,  80,  98,  85, 139, 136, 128,\n",
              "        94, 126,  95,   4, 130, 102,  96, 129, 138, 111, 124, 101, 109,\n",
              "       116, 110, 134,  91, 119, 137, 100,   3, 104, 112,   6, 177, 125,\n",
              "       120, 123, 131, 135, 140, 132, 155, 182, 154, 164, 121, 151, 157,\n",
              "       147, 117, 153, 160, 141, 172, 161,   5, 213, 145, 143, 162, 127,\n",
              "       148, 169, 149, 171, 167, 163, 166, 133, 158, 159, 150, 174, 173,\n",
              "       178, 152,   7, 176, 179, 165, 180, 142, 188, 185, 183,  10, 210,\n",
              "       252, 249, 199, 196, 228, 205, 201, 181, 193, 184, 207, 168, 225,\n",
              "       187, 212, 186, 146, 170, 203, 223, 197, 194, 230, 280, 202, 191,\n",
              "       200, 221, 218, 192, 156, 208, 175, 198, 233, 204, 222, 220, 189,\n",
              "       215, 245, 214, 209, 248, 287, 286, 229, 240, 295, 211, 321, 272,\n",
              "       195, 226, 235, 216, 278, 359, 328, 247, 239, 330, 298, 260, 271,\n",
              "       273, 263, 255, 227, 315, 284, 231, 349, 236, 253, 322, 285, 251,\n",
              "       246, 238, 261, 301, 219, 346, 289, 217, 254, 283, 275, 299, 232,\n",
              "       224, 243, 242, 303, 268, 244, 336, 305, 297, 241, 262, 258, 338,\n",
              "       270, 292, 264, 294, 290, 206, 190, 234, 267, 269, 250, 276, 279,\n",
              "       304, 326])"
            ]
          },
          "metadata": {},
          "execution_count": 22
        }
      ]
    },
    {
      "cell_type": "code",
      "source": [
        "# Checking for null values\n",
        "\n",
        "autolib_data.isnull().sum()\n",
        "\n",
        "# Most of our records have null values, though not as many from a total records of 23,524"
      ],
      "metadata": {
        "colab": {
          "base_uri": "https://localhost:8080/"
        },
        "id": "j5x6wXBPxy1L",
        "outputId": "0e313f9b-ddc3-46dc-d065-eba5bde652ea"
      },
      "execution_count": 23,
      "outputs": [
        {
          "output_type": "execute_result",
          "data": {
            "text/plain": [
              "Postal code               0\n",
              "date                      0\n",
              "n_daily_data_points       0\n",
              "dayOfWeek                 0\n",
              "day_type                  0\n",
              "BlueCars_taken_sum        0\n",
              "BlueCars_returned_sum     0\n",
              "Utilib_taken_sum          0\n",
              "Utilib_returned_sum       0\n",
              "Utilib_14_taken_sum       0\n",
              "Utilib_14_returned_sum    0\n",
              "Slots_freed_sum           0\n",
              "Slots_taken_sum           0\n",
              "dtype: int64"
            ]
          },
          "metadata": {},
          "execution_count": 23
        }
      ]
    },
    {
      "cell_type": "markdown",
      "source": [
        "There is no missing data from our dataset\n"
      ],
      "metadata": {
        "id": "hwgP7CFlx6je"
      }
    },
    {
      "cell_type": "code",
      "source": [
        "autolib_data.columns"
      ],
      "metadata": {
        "colab": {
          "base_uri": "https://localhost:8080/"
        },
        "id": "0olXtKtYzMeZ",
        "outputId": "16ff242e-540d-43e9-b930-fb68802b8138"
      },
      "execution_count": 24,
      "outputs": [
        {
          "output_type": "execute_result",
          "data": {
            "text/plain": [
              "Index(['Postal code', 'date', 'n_daily_data_points', 'dayOfWeek', 'day_type',\n",
              "       'BlueCars_taken_sum', 'BlueCars_returned_sum', 'Utilib_taken_sum',\n",
              "       'Utilib_returned_sum', 'Utilib_14_taken_sum', 'Utilib_14_returned_sum',\n",
              "       'Slots_freed_sum', 'Slots_taken_sum'],\n",
              "      dtype='object')"
            ]
          },
          "metadata": {},
          "execution_count": 24
        }
      ]
    },
    {
      "cell_type": "code",
      "source": [
        "# checking for outliers \n",
        "\n",
        "col_names= ['Postal code', 'n_daily_data_points', 'dayOfWeek', 'BlueCars_taken_sum', 'BlueCars_returned_sum', 'Utilib_taken_sum',\n",
        "       'Utilib_returned_sum', 'Utilib_14_taken_sum', 'Utilib_14_returned_sum',\n",
        "       'Slots_freed_sum', 'Slots_taken_sum']\n",
        "\n",
        "fig, ax = plt.subplots(len(col_names), figsize=(10,100))\n",
        "\n",
        "for i, col_val in enumerate(col_names):\n",
        "\n",
        "    sns.boxplot(y=autolib_data[col_val], ax=ax[i])\n",
        "    ax[i].set_title('Box plot for numerical variables - {}'.format(col_val), fontsize=12)\n",
        "    ax[i].set_xlabel(col_val, fontsize=12)\n",
        "\n",
        "plt.show()"
      ],
      "metadata": {
        "colab": {
          "base_uri": "https://localhost:8080/",
          "height": 1000
        },
        "id": "xqVDRY2Kx_Rv",
        "outputId": "2eed6fe1-d06a-4e65-fdd5-ddde6e9d2812"
      },
      "execution_count": 25,
      "outputs": [
        {
          "output_type": "display_data",
          "data": {
            "image/png": "[encoded data removed]",
            "text/plain": [
              "<Figure size 720x7200 with 11 Axes>"
            ]
          },
          "metadata": {
            "needs_background": "light"
          }
        }
      ]
    },
    {
      "cell_type": "markdown",
      "source": [
        "We retain the outliers since  can they capture valuable information that is part of our research"
      ],
      "metadata": {
        "id": "SfMpCwpd6LoH"
      }
    },
    {
      "cell_type": "code",
      "source": [
        "autolib_data.shape"
      ],
      "metadata": {
        "colab": {
          "base_uri": "https://localhost:8080/"
        },
        "id": "eZHoPZTeEtzZ",
        "outputId": "6b6a38b4-51fe-4028-e5f6-804c230106de"
      },
      "execution_count": 26,
      "outputs": [
        {
          "output_type": "execute_result",
          "data": {
            "text/plain": [
              "(16085, 13)"
            ]
          },
          "metadata": {},
          "execution_count": 26
        }
      ]
    },
    {
      "cell_type": "markdown",
      "source": [
        "#          Exploratory Data Analysis.\n",
        "\n",
        "\n",
        "\n",
        "\n"
      ],
      "metadata": {
        "id": "kWtVVjhd9P1I"
      }
    },
    {
      "cell_type": "markdown",
      "source": [
        "### a) univarite analysis"
      ],
      "metadata": {
        "id": "I7gH84SHY-uo"
      }
    },
    {
      "cell_type": "code",
      "source": [
        "autolib_data.columns"
      ],
      "metadata": {
        "colab": {
          "base_uri": "https://localhost:8080/"
        },
        "id": "xHj2s_43lel3",
        "outputId": "0ee24680-7114-493a-b93e-27a84c4ac24a"
      },
      "execution_count": 27,
      "outputs": [
        {
          "output_type": "execute_result",
          "data": {
            "text/plain": [
              "Index(['Postal code', 'date', 'n_daily_data_points', 'dayOfWeek', 'day_type',\n",
              "       'BlueCars_taken_sum', 'BlueCars_returned_sum', 'Utilib_taken_sum',\n",
              "       'Utilib_returned_sum', 'Utilib_14_taken_sum', 'Utilib_14_returned_sum',\n",
              "       'Slots_freed_sum', 'Slots_taken_sum'],\n",
              "      dtype='object')"
            ]
          },
          "metadata": {},
          "execution_count": 27
        }
      ]
    },
    {
      "cell_type": "code",
      "source": [
        "# MEAN\n",
        "#\n",
        "# Lets calculate the average of the data in the numerical attributes\n",
        "\n",
        "print('Bluecars taken mean    : ', autolib_data.BlueCars_taken_sum.mean())\n",
        "print('Bluecars returned mean : ', autolib_data.BlueCars_returned_sum.mean())\n",
        "print('Utilib taken mean      : ', autolib_data.Utilib_taken_sum.mean())\n",
        "print('Utilib returned mean   : ', autolib_data.Utilib_returned_sum.mean())\n",
        "print('Utilib 14 taken mean   : ', autolib_data.Utilib_14_taken_sum.mean())\n",
        "print('Utilib 14 returned mean : ', autolib_data.Utilib_14_returned_sum.mean())\n",
        "print('slots  freed mean      : ', autolib_data.Slots_freed_sum.mean())\n",
        "print('slots  taken mean      : ', autolib_data.Slots_taken_sum.mean())"
      ],
      "metadata": {
        "colab": {
          "base_uri": "https://localhost:8080/"
        },
        "id": "avoqSHwEhKUP",
        "outputId": "8457077e-1335-4e3a-8de2-a9d54f0652bf"
      },
      "execution_count": 28,
      "outputs": [
        {
          "output_type": "stream",
          "name": "stdout",
          "text": [
            "Bluecars taken mean    :  125.92695057506994\n",
            "Bluecars returned mean :  125.912713708424\n",
            "Utilib taken mean      :  3.69829033260802\n",
            "Utilib returned mean   :  3.6990985390115014\n",
            "Utilib 14 taken mean   :  8.600559527510102\n",
            "Utilib 14 returned mean :  8.599191793596518\n",
            "slots  freed mean      :  22.62903326080199\n",
            "slots  taken mean      :  22.629281939695367\n"
          ]
        }
      ]
    },
    {
      "cell_type": "code",
      "source": [
        "print('Bluecars taken mode    : ', autolib_data.BlueCars_taken_sum.mode())\n",
        "print('Bluecars returned mode : ', autolib_data.BlueCars_returned_sum.mode())\n",
        "print('Utilib taken mode      : ', autolib_data.Utilib_taken_sum.mode())\n",
        "print('Utilib returned mode   : ', autolib_data.Utilib_returned_sum.mode())\n",
        "print('Utilib 14 taken mode   : ', autolib_data.Utilib_14_taken_sum.mode())\n",
        "print('Utilib 14 returned mode : ', autolib_data.Utilib_14_returned_sum.mode())\n",
        "print('slots  freed mode      : ', autolib_data.Slots_freed_sum.mode())\n",
        "print('slots  taken mode      : ', autolib_data.Slots_taken_sum.mode())"
      ],
      "metadata": {
        "colab": {
          "base_uri": "https://localhost:8080/"
        },
        "id": "ZsCf_mZOhiDo",
        "outputId": "21fc68c2-ec5e-4c99-94be-20ca9472ea07"
      },
      "execution_count": 29,
      "outputs": [
        {
          "output_type": "stream",
          "name": "stdout",
          "text": [
            "Bluecars taken mode    :  0    12\n",
            "dtype: int64\n",
            "Bluecars returned mode :  0    13\n",
            "dtype: int64\n",
            "Utilib taken mode      :  0    0\n",
            "dtype: int64\n",
            "Utilib returned mode   :  0    0\n",
            "dtype: int64\n",
            "Utilib 14 taken mode   :  0    0\n",
            "dtype: int64\n",
            "Utilib 14 returned mode :  0    0\n",
            "dtype: int64\n",
            "slots  freed mode      :  0    0\n",
            "dtype: int64\n",
            "slots  taken mode      :  0    0\n",
            "dtype: int64\n"
          ]
        }
      ]
    },
    {
      "cell_type": "code",
      "source": [
        "print('Bluecars taken median    : ', autolib_data.BlueCars_taken_sum.median())\n",
        "print('Bluecars returned median : ', autolib_data.BlueCars_returned_sum.median())\n",
        "print('Utilib taken median      : ', autolib_data.Utilib_taken_sum.median())\n",
        "print('Utilib returned median   : ', autolib_data.Utilib_returned_sum.median())\n",
        "print('Utilib 14 taken median   : ', autolib_data.Utilib_14_taken_sum.median())\n",
        "print('Utilib 14 returned median : ', autolib_data.Utilib_14_returned_sum.median())\n",
        "print('slots  freed median      : ', autolib_data.Slots_freed_sum.median())\n",
        "print('slots  taken median      : ', autolib_data.Slots_taken_sum.median())"
      ],
      "metadata": {
        "colab": {
          "base_uri": "https://localhost:8080/"
        },
        "id": "PyUnp8Jbhm6v",
        "outputId": "9564bb84-4390-40f4-aeb0-f211c1079dcb"
      },
      "execution_count": 30,
      "outputs": [
        {
          "output_type": "stream",
          "name": "stdout",
          "text": [
            "Bluecars taken median    :  46.0\n",
            "Bluecars returned median :  46.0\n",
            "Utilib taken median      :  1.0\n",
            "Utilib returned median   :  1.0\n",
            "Utilib 14 taken median   :  3.0\n",
            "Utilib 14 returned median :  3.0\n",
            "slots  freed median      :  0.0\n",
            "slots  taken median      :  0.0\n"
          ]
        }
      ]
    },
    {
      "cell_type": "code",
      "source": [
        "# Calculating standard deviation using the std() function for all numeric variables\n",
        "#\n",
        "print('Bluecars taken stdev   : ', autolib_data.BlueCars_taken_sum.std())\n",
        "print('Bluecars returned stdev : ', autolib_data.BlueCars_returned_sum.std())\n",
        "print('Utilib taken stdev      : ', autolib_data.Utilib_taken_sum.std())\n",
        "print('Utilib returned stdev   : ', autolib_data.Utilib_returned_sum.std())\n",
        "print('Utilib 14 taken stdev   : ', autolib_data.Utilib_14_taken_sum.std())\n",
        "print('Utilib 14 returned stdev : ', autolib_data.Utilib_14_returned_sum.std())\n",
        "print('slots  freed stdev      : ', autolib_data.Slots_freed_sum.std())\n",
        "print('slots  taken stdev      : ', autolib_data.Slots_taken_sum.std())\n"
      ],
      "metadata": {
        "colab": {
          "base_uri": "https://localhost:8080/"
        },
        "id": "mPzJkLXFhrqO",
        "outputId": "8991d922-eeeb-44c0-a32c-4d7a78528013"
      },
      "execution_count": 31,
      "outputs": [
        {
          "output_type": "stream",
          "name": "stdout",
          "text": [
            "Bluecars taken stdev   :  185.42657876727893\n",
            "Bluecars returned stdev :  185.50153480148427\n",
            "Utilib taken stdev      :  5.815057779367249\n",
            "Utilib returned stdev   :  5.824634228651658\n",
            "Utilib 14 taken stdev   :  12.870098297095637\n",
            "Utilib 14 returned stdev :  12.868992936610336\n",
            "slots  freed stdev      :  52.12026333757879\n",
            "slots  taken stdev      :  52.146029870452566\n"
          ]
        }
      ]
    },
    {
      "cell_type": "markdown",
      "source": [
        "Standard deviations show how data is spread out from mean."
      ],
      "metadata": {
        "id": "hNVsmvrGf-du"
      }
    },
    {
      "cell_type": "code",
      "source": [
        "print('Bluecars taken skewness   : ', autolib_data.BlueCars_taken_sum.skew())\n",
        "print('Bluecars returned skewness : ', autolib_data.BlueCars_returned_sum.skew())\n",
        "print('Utilib taken skewness      : ', autolib_data.Utilib_taken_sum.skew())\n",
        "print('Utilib returned skewness   : ', autolib_data.Utilib_returned_sum.skew())\n",
        "print('Utilib 14 taken skewness   : ', autolib_data.Utilib_14_taken_sum.skew())\n",
        "print('Utilib 14 returned skewness : ', autolib_data.Utilib_14_returned_sum.skew())\n",
        "print('slots  freed skewness      : ', autolib_data.Slots_freed_sum.skew())\n",
        "print('slots  taken skewness      : ', autolib_data.Slots_taken_sum.skew())\n",
        "\n"
      ],
      "metadata": {
        "colab": {
          "base_uri": "https://localhost:8080/"
        },
        "id": "itOorZV1ibge",
        "outputId": "0c7f3376-51f1-492f-9915-0bfb4bc62343"
      },
      "execution_count": 32,
      "outputs": [
        {
          "output_type": "stream",
          "name": "stdout",
          "text": [
            "Bluecars taken skewness   :  2.4063548974959086\n",
            "Bluecars returned skewness :  2.412084978838923\n",
            "Utilib taken skewness      :  2.5568719194754777\n",
            "Utilib returned skewness   :  2.57866477971619\n",
            "Utilib 14 taken skewness   :  2.5109244534822923\n",
            "Utilib 14 returned skewness :  2.511487901149739\n",
            "slots  freed skewness      :  2.5974057870090994\n",
            "slots  taken skewness      :  2.5969043474634987\n"
          ]
        }
      ]
    },
    {
      "cell_type": "markdown",
      "source": [
        "The variables are positively skewed"
      ],
      "metadata": {
        "id": "lAFCaTRfgero"
      }
    },
    {
      "cell_type": "code",
      "source": [
        "print('Bluecars taken kurtosis   : ', autolib_data.BlueCars_taken_sum.kurt())\n",
        "print('Bluecars returned kurtosis : ', autolib_data.BlueCars_returned_sum.kurt())\n",
        "print('Utilib taken kurtosis      : ', autolib_data.Utilib_taken_sum.kurt())\n",
        "print('Utilib returned kurtosis   : ', autolib_data.Utilib_returned_sum.kurt())\n",
        "print('Utilib 14 taken kurtosis   : ', autolib_data.Utilib_14_taken_sum.kurt())\n",
        "print('Utilib 14 returned kurtosis : ', autolib_data.Utilib_14_returned_sum.kurt())\n",
        "print('Slots  freed kurtosis      : ', autolib_data.Slots_freed_sum.kurt())\n",
        "print('Slots  taken kurtosis      : ', autolib_data.Slots_taken_sum.kurt())"
      ],
      "metadata": {
        "colab": {
          "base_uri": "https://localhost:8080/"
        },
        "id": "1nPHIEMInLCQ",
        "outputId": "5b6f4558-b036-4408-d59f-5ed9e098642f"
      },
      "execution_count": 33,
      "outputs": [
        {
          "output_type": "stream",
          "name": "stdout",
          "text": [
            "Bluecars taken kurtosis   :  6.172692305510042\n",
            "Bluecars returned kurtosis :  6.1862880957582345\n",
            "Utilib taken kurtosis      :  7.702361895243428\n",
            "Utilib returned kurtosis   :  7.93635700780893\n",
            "Utilib 14 taken kurtosis   :  7.18681525579947\n",
            "Utilib 14 returned kurtosis :  7.18546312191963\n",
            "Slots  freed kurtosis      :  6.454514382612528\n",
            "Slots  taken kurtosis      :  6.442553073772169\n"
          ]
        }
      ]
    },
    {
      "cell_type": "markdown",
      "source": [
        "the distribution has heavier tails "
      ],
      "metadata": {
        "id": "VZy8YId3g5cA"
      }
    },
    {
      "cell_type": "code",
      "source": [
        "autolib_data.head()"
      ],
      "metadata": {
        "colab": {
          "base_uri": "https://localhost:8080/",
          "height": 288
        },
        "id": "FqwaZKO9GvbC",
        "outputId": "00731566-7a6b-41a2-90e9-ba84c56a7206"
      },
      "execution_count": 34,
      "outputs": [
        {
          "output_type": "execute_result",
          "data": {
            "text/html": [
              "\n",
              "  <div id=\"df-fd903144-b715-425c-b96e-22a21c1de107\">\n",
              "    <div class=\"colab-df-container\">\n",
              "      <div>\n",
              "<style scoped>\n",
              "    .dataframe tbody tr th:only-of-type {\n",
              "        vertical-align: middle;\n",
              "    }\n",
              "\n",
              "    .dataframe tbody tr th {\n",
              "        vertical-align: top;\n",
              "    }\n",
              "\n",
              "    .dataframe thead th {\n",
              "        text-align: right;\n",
              "    }\n",
              "</style>\n",
              "<table border=\"1\" class=\"dataframe\">\n",
              "  <thead>\n",
              "    <tr style=\"text-align: right;\">\n",
              "      <th></th>\n",
              "      <th>Postal code</th>\n",
              "      <th>date</th>\n",
              "      <th>n_daily_data_points</th>\n",
              "      <th>dayOfWeek</th>\n",
              "      <th>day_type</th>\n",
              "      <th>BlueCars_taken_sum</th>\n",
              "      <th>BlueCars_returned_sum</th>\n",
              "      <th>Utilib_taken_sum</th>\n",
              "      <th>Utilib_returned_sum</th>\n",
              "      <th>Utilib_14_taken_sum</th>\n",
              "      <th>Utilib_14_returned_sum</th>\n",
              "      <th>Slots_freed_sum</th>\n",
              "      <th>Slots_taken_sum</th>\n",
              "    </tr>\n",
              "  </thead>\n",
              "  <tbody>\n",
              "    <tr>\n",
              "      <th>0</th>\n",
              "      <td>75001</td>\n",
              "      <td>1/1/2018</td>\n",
              "      <td>1440</td>\n",
              "      <td>0</td>\n",
              "      <td>weekday</td>\n",
              "      <td>110</td>\n",
              "      <td>103</td>\n",
              "      <td>3</td>\n",
              "      <td>2</td>\n",
              "      <td>10</td>\n",
              "      <td>9</td>\n",
              "      <td>22</td>\n",
              "      <td>20</td>\n",
              "    </tr>\n",
              "    <tr>\n",
              "      <th>1</th>\n",
              "      <td>75001</td>\n",
              "      <td>1/2/2018</td>\n",
              "      <td>1438</td>\n",
              "      <td>1</td>\n",
              "      <td>weekday</td>\n",
              "      <td>98</td>\n",
              "      <td>94</td>\n",
              "      <td>1</td>\n",
              "      <td>1</td>\n",
              "      <td>8</td>\n",
              "      <td>8</td>\n",
              "      <td>23</td>\n",
              "      <td>22</td>\n",
              "    </tr>\n",
              "    <tr>\n",
              "      <th>2</th>\n",
              "      <td>75001</td>\n",
              "      <td>1/3/2018</td>\n",
              "      <td>1439</td>\n",
              "      <td>2</td>\n",
              "      <td>weekday</td>\n",
              "      <td>138</td>\n",
              "      <td>139</td>\n",
              "      <td>0</td>\n",
              "      <td>0</td>\n",
              "      <td>2</td>\n",
              "      <td>2</td>\n",
              "      <td>27</td>\n",
              "      <td>27</td>\n",
              "    </tr>\n",
              "    <tr>\n",
              "      <th>3</th>\n",
              "      <td>75001</td>\n",
              "      <td>1/4/2018</td>\n",
              "      <td>1320</td>\n",
              "      <td>3</td>\n",
              "      <td>weekday</td>\n",
              "      <td>104</td>\n",
              "      <td>104</td>\n",
              "      <td>2</td>\n",
              "      <td>2</td>\n",
              "      <td>9</td>\n",
              "      <td>8</td>\n",
              "      <td>25</td>\n",
              "      <td>21</td>\n",
              "    </tr>\n",
              "    <tr>\n",
              "      <th>4</th>\n",
              "      <td>75001</td>\n",
              "      <td>1/5/2018</td>\n",
              "      <td>1440</td>\n",
              "      <td>4</td>\n",
              "      <td>weekday</td>\n",
              "      <td>114</td>\n",
              "      <td>117</td>\n",
              "      <td>3</td>\n",
              "      <td>3</td>\n",
              "      <td>6</td>\n",
              "      <td>6</td>\n",
              "      <td>18</td>\n",
              "      <td>20</td>\n",
              "    </tr>\n",
              "  </tbody>\n",
              "</table>\n",
              "</div>\n",
              "      <button class=\"colab-df-convert\" onclick=\"convertToInteractive('df-fd903144-b715-425c-b96e-22a21c1de107')\"\n",
              "              title=\"Convert this dataframe to an interactive table.\"\n",
              "              style=\"display:none;\">\n",
              "        \n",
              "  <svg xmlns=\"http://www.w3.org/2000/svg\" height=\"24px\"viewBox=\"0 0 24 24\"\n",
              "       width=\"24px\">\n",
              "    <path d=\"M0 0h24v24H0V0z\" fill=\"none\"/>\n",
              "    <path d=\"M18.56 5.44l.94 2.06.94-2.06 2.06-.94-2.06-.94-.94-2.06-.94 2.06-2.06.94zm-11 1L8.5 8.5l.94-2.06 2.06-.94-2.06-.94L8.5 2.5l-.94 2.06-2.06.94zm10 10l.94 2.06.94-2.06 2.06-.94-2.06-.94-.94-2.06-.94 2.06-2.06.94z\"/><path d=\"M17.41 7.96l-1.37-1.37c-.4-.4-.92-.59-1.43-.59-.52 0-1.04.2-1.43.59L10.3 9.45l-7.72 7.72c-.78.78-.78 2.05 0 2.83L4 21.41c.39.39.9.59 1.41.59.51 0 1.02-.2 1.41-.59l7.78-7.78 2.81-2.81c.8-.78.8-2.07 0-2.86zM5.41 20L4 18.59l7.72-7.72 1.47 1.35L5.41 20z\"/>\n",
              "  </svg>\n",
              "      </button>\n",
              "      \n",
              "  <style>\n",
              "    .colab-df-container {\n",
              "      display:flex;\n",
              "      flex-wrap:wrap;\n",
              "      gap: 12px;\n",
              "    }\n",
              "\n",
              "    .colab-df-convert {\n",
              "      background-color: #E8F0FE;\n",
              "      border: none;\n",
              "      border-radius: 50%;\n",
              "      cursor: pointer;\n",
              "      display: none;\n",
              "      fill: #1967D2;\n",
              "      height: 32px;\n",
              "      padding: 0 0 0 0;\n",
              "      width: 32px;\n",
              "    }\n",
              "\n",
              "    .colab-df-convert:hover {\n",
              "      background-color: #E2EBFA;\n",
              "      box-shadow: 0px 1px 2px rgba(60, 64, 67, 0.3), 0px 1px 3px 1px rgba(60, 64, 67, 0.15);\n",
              "      fill: #174EA6;\n",
              "    }\n",
              "\n",
              "    [theme=dark] .colab-df-convert {\n",
              "      background-color: #3B4455;\n",
              "      fill: #D2E3FC;\n",
              "    }\n",
              "\n",
              "    [theme=dark] .colab-df-convert:hover {\n",
              "      background-color: #434B5C;\n",
              "      box-shadow: 0px 1px 3px 1px rgba(0, 0, 0, 0.15);\n",
              "      filter: drop-shadow(0px 1px 2px rgba(0, 0, 0, 0.3));\n",
              "      fill: #FFFFFF;\n",
              "    }\n",
              "  </style>\n",
              "\n",
              "      <script>\n",
              "        const buttonEl =\n",
              "          document.querySelector('#df-fd903144-b715-425c-b96e-22a21c1de107 button.colab-df-convert');\n",
              "        buttonEl.style.display =\n",
              "          google.colab.kernel.accessAllowed ? 'block' : 'none';\n",
              "\n",
              "        async function convertToInteractive(key) {\n",
              "          const element = document.querySelector('#df-fd903144-b715-425c-b96e-22a21c1de107');\n",
              "          const dataTable =\n",
              "            await google.colab.kernel.invokeFunction('convertToInteractive',\n",
              "                                                     [key], {});\n",
              "          if (!dataTable) return;\n",
              "\n",
              "          const docLinkHtml = 'Like what you see? Visit the ' +\n",
              "            '<a target=\"_blank\" href=https://colab.research.google.com/notebooks/data_table.ipynb>data table notebook</a>'\n",
              "            + ' to learn more about interactive tables.';\n",
              "          element.innerHTML = '';\n",
              "          dataTable['output_type'] = 'display_data';\n",
              "          await google.colab.output.renderOutput(dataTable, element);\n",
              "          const docLink = document.createElement('div');\n",
              "          docLink.innerHTML = docLinkHtml;\n",
              "          element.appendChild(docLink);\n",
              "        }\n",
              "      </script>\n",
              "    </div>\n",
              "  </div>\n",
              "  "
            ],
            "text/plain": [
              "   Postal code      date  ...  Slots_freed_sum  Slots_taken_sum\n",
              "0        75001  1/1/2018  ...               22               20\n",
              "1        75001  1/2/2018  ...               23               22\n",
              "2        75001  1/3/2018  ...               27               27\n",
              "3        75001  1/4/2018  ...               25               21\n",
              "4        75001  1/5/2018  ...               18               20\n",
              "\n",
              "[5 rows x 13 columns]"
            ]
          },
          "metadata": {},
          "execution_count": 34
        }
      ]
    },
    {
      "cell_type": "code",
      "source": [
        "#visualization for weekdays and weekends\n",
        "autolib_data['day_type'].value_counts().plot(kind = 'bar');"
      ],
      "metadata": {
        "colab": {
          "base_uri": "https://localhost:8080/",
          "height": 302
        },
        "id": "LEL_Bg1o9iOv",
        "outputId": "2e05f383-388b-4171-adfb-724a4d6d5c52"
      },
      "execution_count": 35,
      "outputs": [
        {
          "output_type": "display_data",
          "data": {
            "image/png": "[encoded data removed]",
            "text/plain": [
              "<Figure size 432x288 with 1 Axes>"
            ]
          },
          "metadata": {
            "needs_background": "light"
          }
        }
      ]
    },
    {
      "cell_type": "markdown",
      "source": [
        "autolib was busier on weekdays"
      ],
      "metadata": {
        "id": "nQbhoVReT450"
      }
    },
    {
      "cell_type": "code",
      "source": [
        "#visualization on day of week\n",
        "autolib_data['dayOfWeek'].value_counts().plot(kind = 'bar');"
      ],
      "metadata": {
        "colab": {
          "base_uri": "https://localhost:8080/",
          "height": 262
        },
        "id": "eoO076SOUD3D",
        "outputId": "ff0f8ee5-5129-4d89-e8a1-4e9a89175953"
      },
      "execution_count": 36,
      "outputs": [
        {
          "output_type": "display_data",
          "data": {
            "image/png": "[encoded data removed]",
            "text/plain": [
              "<Figure size 432x288 with 1 Axes>"
            ]
          },
          "metadata": {
            "needs_background": "light"
          }
        }
      ]
    },
    {
      "cell_type": "markdown",
      "source": [
        "Monday was the busiest day of the week for autolib"
      ],
      "metadata": {
        "id": "LufmPQp4Uj9D"
      }
    },
    {
      "cell_type": "code",
      "source": [
        "#visualization on day of week\n",
        "autolib_data['BlueCars_taken_sum'].head().value_counts().plot(kind = 'bar');"
      ],
      "metadata": {
        "colab": {
          "base_uri": "https://localhost:8080/",
          "height": 274
        },
        "id": "a6UWT04mUrC6",
        "outputId": "516acf15-7ab9-4c1e-f507-b66e1ccaacac"
      },
      "execution_count": 37,
      "outputs": [
        {
          "output_type": "display_data",
          "data": {
            "image/png": "[encoded data removed]",
            "text/plain": [
              "<Figure size 432x288 with 1 Axes>"
            ]
          },
          "metadata": {
            "needs_background": "light"
          }
        }
      ]
    },
    {
      "cell_type": "code",
      "source": [
        "# bluecars taken\n",
        "sns.distplot(autolib_data['BlueCars_taken_sum'], bins=10);\n",
        "plt.title('distribution of blue cars taken')"
      ],
      "metadata": {
        "colab": {
          "base_uri": "https://localhost:8080/",
          "height": 368
        },
        "id": "wIqxAzMBUrKc",
        "outputId": "56e9bcdf-b1a8-42df-9954-211d1441ebf5"
      },
      "execution_count": 38,
      "outputs": [
        {
          "output_type": "stream",
          "name": "stderr",
          "text": [
            "/usr/local/lib/python3.7/dist-packages/seaborn/distributions.py:2619: FutureWarning: `distplot` is a deprecated function and will be removed in a future version. Please adapt your code to use either `displot` (a figure-level function with similar flexibility) or `histplot` (an axes-level function for histograms).\n",
            "  warnings.warn(msg, FutureWarning)\n"
          ]
        },
        {
          "output_type": "execute_result",
          "data": {
            "text/plain": [
              "Text(0.5, 1.0, 'distribution of blue cars taken')"
            ]
          },
          "metadata": {},
          "execution_count": 38
        },
        {
          "output_type": "display_data",
          "data": {
            "image/png": "[encoded data removed]",
            "text/plain": [
              "<Figure size 432x288 with 1 Axes>"
            ]
          },
          "metadata": {
            "needs_background": "light"
          }
        }
      ]
    },
    {
      "cell_type": "code",
      "source": [
        "# bluecars returned\n",
        "sns.distplot(autolib_data['BlueCars_returned_sum'], bins=10);\n",
        "plt.title('distribution of blue cars returned')"
      ],
      "metadata": {
        "colab": {
          "base_uri": "https://localhost:8080/",
          "height": 368
        },
        "id": "goLXjFhJdvKB",
        "outputId": "bc1baaa4-744e-4c6e-d968-5367ef71d258"
      },
      "execution_count": 39,
      "outputs": [
        {
          "output_type": "stream",
          "name": "stderr",
          "text": [
            "/usr/local/lib/python3.7/dist-packages/seaborn/distributions.py:2619: FutureWarning: `distplot` is a deprecated function and will be removed in a future version. Please adapt your code to use either `displot` (a figure-level function with similar flexibility) or `histplot` (an axes-level function for histograms).\n",
            "  warnings.warn(msg, FutureWarning)\n"
          ]
        },
        {
          "output_type": "execute_result",
          "data": {
            "text/plain": [
              "Text(0.5, 1.0, 'distribution of blue cars returned')"
            ]
          },
          "metadata": {},
          "execution_count": 39
        },
        {
          "output_type": "display_data",
          "data": {
            "image/png": "[encoded data removed]",
            "text/plain": [
              "<Figure size 432x288 with 1 Axes>"
            ]
          },
          "metadata": {
            "needs_background": "light"
          }
        }
      ]
    },
    {
      "cell_type": "markdown",
      "source": [
        "### b) Bivariate analysis"
      ],
      "metadata": {
        "id": "KJA0SsbLZWNW"
      }
    },
    {
      "cell_type": "code",
      "source": [
        "#Number of cars taken during the weekdays against During the weekends\n",
        "a = autolib_data[autolib_data[\"day_type\"] == 'weekday'].shape[0]\n",
        "b = autolib_data[autolib_data[\"day_type\"] == 'weekend'].shape[0]\n",
        "print(f\"Weekdays = {a}\")\n",
        "print(f\"Weekends = {b}\")\n",
        "print(f\"Proportion of Weekdays  = {(a / len(autolib_data['day_type'])) * 100:.2f}%\")\n",
        "print(f\"Proportion of Weekends  = {(b / len(autolib_data['day_type'])) * 100:.2f}%\")                                                      \n",
        "plt.figure(figsize=(8, 6))\n",
        "sns.countplot(autolib_data[\"day_type\"])\n",
        "plt.xticks((0, 1), [\"Weekday\", \"Weekend\"])\n",
        "plt.xlabel(\"\")\n",
        "plt.ylabel(\"Frequency\")\n",
        "plt.title(\"\", y=1, fontdict={\"fontsize\": 20});"
      ],
      "metadata": {
        "colab": {
          "base_uri": "https://localhost:8080/",
          "height": 499
        },
        "id": "ha47SvF7bbzG",
        "outputId": "0053c9ca-2307-466c-abcd-b1152ae09222"
      },
      "execution_count": 40,
      "outputs": [
        {
          "output_type": "stream",
          "name": "stdout",
          "text": [
            "Weekdays = 11544\n",
            "Weekends = 4541\n",
            "Proportion of Weekdays  = 71.77%\n",
            "Proportion of Weekends  = 28.23%\n"
          ]
        },
        {
          "output_type": "stream",
          "name": "stderr",
          "text": [
            "/usr/local/lib/python3.7/dist-packages/seaborn/_decorators.py:43: FutureWarning: Pass the following variable as a keyword arg: x. From version 0.12, the only valid positional argument will be `data`, and passing other arguments without an explicit keyword will result in an error or misinterpretation.\n",
            "  FutureWarning\n"
          ]
        },
        {
          "output_type": "display_data",
          "data": {
            "image/png": "[encoded data removed]",
            "text/plain": [
              "<Figure size 576x432 with 1 Axes>"
            ]
          },
          "metadata": {
            "needs_background": "light"
          }
        }
      ]
    },
    {
      "cell_type": "code",
      "source": [
        "#average Number of bluecars taken during the weekdays vs During the weekends\n",
        "autolib_data.groupby('day_type')['BlueCars_taken_sum'].mean().plot(kind='bar')"
      ],
      "metadata": {
        "colab": {
          "base_uri": "https://localhost:8080/",
          "height": 332
        },
        "id": "Ev-C2Xrkclv9",
        "outputId": "427798e9-2c90-4e41-f5a5-529ef6233221"
      },
      "execution_count": 41,
      "outputs": [
        {
          "output_type": "execute_result",
          "data": {
            "text/plain": [
              "<matplotlib.axes._subplots.AxesSubplot at 0x7f0d5c1e6090>"
            ]
          },
          "metadata": {},
          "execution_count": 41
        },
        {
          "output_type": "display_data",
          "data": {
            "image/png": "[encoded data removed]",
            "text/plain": [
              "<Figure size 432x288 with 1 Axes>"
            ]
          },
          "metadata": {
            "needs_background": "light"
          }
        }
      ]
    },
    {
      "cell_type": "markdown",
      "source": [
        "Blue cars were majorly taken during the weekdays."
      ],
      "metadata": {
        "id": "IjId4j4dhH7H"
      }
    },
    {
      "cell_type": "code",
      "source": [
        "#average Number of bluecars returned during the weekdays vs During the weekends\n",
        "autolib_data.groupby('day_type')['BlueCars_returned_sum'].mean().plot(kind='bar')\n"
      ],
      "metadata": {
        "colab": {
          "base_uri": "https://localhost:8080/",
          "height": 332
        },
        "id": "jspRlJUoeouF",
        "outputId": "5477691c-fac4-49c3-eb34-cb8a9989ee82"
      },
      "execution_count": 42,
      "outputs": [
        {
          "output_type": "execute_result",
          "data": {
            "text/plain": [
              "<matplotlib.axes._subplots.AxesSubplot at 0x7f0d685da690>"
            ]
          },
          "metadata": {},
          "execution_count": 42
        },
        {
          "output_type": "display_data",
          "data": {
            "image/png": "[encoded data removed]",
            "text/plain": [
              "<Figure size 432x288 with 1 Axes>"
            ]
          },
          "metadata": {
            "needs_background": "light"
          }
        }
      ]
    },
    {
      "cell_type": "markdown",
      "source": [
        "Most vehicles were returned during the weekdays also."
      ],
      "metadata": {
        "id": "K7D091H5haI2"
      }
    },
    {
      "cell_type": "code",
      "source": [
        "# Compare blue car pickup behaviour based on weekends\n",
        "\n",
        "autolib_data[autolib_data['day_type'] == 'weekend'].groupby('dayOfWeek')['BlueCars_taken_sum'].sum().plot(kind='bar')\n",
        "plt.xticks(rotation=0)\n",
        "plt.title('bluecars picked for the weekend')"
      ],
      "metadata": {
        "colab": {
          "base_uri": "https://localhost:8080/",
          "height": 312
        },
        "id": "nSzL5ZkOfZ73",
        "outputId": "b41c78f1-7e63-4f98-a5ee-3e58e7a6975e"
      },
      "execution_count": 43,
      "outputs": [
        {
          "output_type": "execute_result",
          "data": {
            "text/plain": [
              "Text(0.5, 1.0, 'bluecars picked for the weekend')"
            ]
          },
          "metadata": {},
          "execution_count": 43
        },
        {
          "output_type": "display_data",
          "data": {
            "image/png": "[encoded data removed]",
            "text/plain": [
              "<Figure size 432x288 with 1 Axes>"
            ]
          },
          "metadata": {
            "needs_background": "light"
          }
        }
      ]
    },
    {
      "cell_type": "markdown",
      "source": [
        "More  blue cars were picked on saturday compared to Sunday."
      ],
      "metadata": {
        "id": "GdBOUFGEhpMA"
      }
    },
    {
      "cell_type": "code",
      "source": [
        "# Compare blue car dropoff behaviour based on weekends\n",
        "\n",
        "autolib_data[autolib_data['day_type'] == 'weekend'].groupby('dayOfWeek')['BlueCars_returned_sum'].sum().plot(kind='bar')\n",
        "plt.xticks(rotation=0)\n",
        "plt.title('bluecars returned on weekend')"
      ],
      "metadata": {
        "colab": {
          "base_uri": "https://localhost:8080/",
          "height": 312
        },
        "id": "h98CwIvMfRYu",
        "outputId": "e0a27fd7-f2a6-4ec8-9c15-8305f7ecb8f8"
      },
      "execution_count": 44,
      "outputs": [
        {
          "output_type": "execute_result",
          "data": {
            "text/plain": [
              "Text(0.5, 1.0, 'bluecars returned on weekend')"
            ]
          },
          "metadata": {},
          "execution_count": 44
        },
        {
          "output_type": "display_data",
          "data": {
            "image/png": "[encoded data removed]",
            "text/plain": [
              "<Figure size 432x288 with 1 Axes>"
            ]
          },
          "metadata": {
            "needs_background": "light"
          }
        }
      ]
    },
    {
      "cell_type": "markdown",
      "source": [
        "Saturday also had more cars being dropped off compared to Sunday"
      ],
      "metadata": {
        "id": "ckvgJv96h8oj"
      }
    },
    {
      "cell_type": "code",
      "source": [
        "# Using the corr() function to find the coefficient of correlation\n",
        "#\n",
        "corr_df = autolib_data.corr() # This will return a table of the degree of correlation of each variable against all other variables.\n",
        "corr_df"
      ],
      "metadata": {
        "colab": {
          "base_uri": "https://localhost:8080/",
          "height": 476
        },
        "id": "sIZXEOhGgew9",
        "outputId": "73d61751-233f-411d-e742-60a78d847952"
      },
      "execution_count": 45,
      "outputs": [
        {
          "output_type": "execute_result",
          "data": {
            "text/html": [
              "\n",
              "  <div id=\"df-259c3bd2-5b77-4079-a5e0-6429521dd0dc\">\n",
              "    <div class=\"colab-df-container\">\n",
              "      <div>\n",
              "<style scoped>\n",
              "    .dataframe tbody tr th:only-of-type {\n",
              "        vertical-align: middle;\n",
              "    }\n",
              "\n",
              "    .dataframe tbody tr th {\n",
              "        vertical-align: top;\n",
              "    }\n",
              "\n",
              "    .dataframe thead th {\n",
              "        text-align: right;\n",
              "    }\n",
              "</style>\n",
              "<table border=\"1\" class=\"dataframe\">\n",
              "  <thead>\n",
              "    <tr style=\"text-align: right;\">\n",
              "      <th></th>\n",
              "      <th>Postal code</th>\n",
              "      <th>n_daily_data_points</th>\n",
              "      <th>dayOfWeek</th>\n",
              "      <th>BlueCars_taken_sum</th>\n",
              "      <th>BlueCars_returned_sum</th>\n",
              "      <th>Utilib_taken_sum</th>\n",
              "      <th>Utilib_returned_sum</th>\n",
              "      <th>Utilib_14_taken_sum</th>\n",
              "      <th>Utilib_14_returned_sum</th>\n",
              "      <th>Slots_freed_sum</th>\n",
              "      <th>Slots_taken_sum</th>\n",
              "    </tr>\n",
              "  </thead>\n",
              "  <tbody>\n",
              "    <tr>\n",
              "      <th>Postal code</th>\n",
              "      <td>1.000000</td>\n",
              "      <td>0.000432</td>\n",
              "      <td>0.000343</td>\n",
              "      <td>-0.698020</td>\n",
              "      <td>-0.697519</td>\n",
              "      <td>-0.625521</td>\n",
              "      <td>-0.624786</td>\n",
              "      <td>-0.656744</td>\n",
              "      <td>-0.656516</td>\n",
              "      <td>-0.749528</td>\n",
              "      <td>-0.749157</td>\n",
              "    </tr>\n",
              "    <tr>\n",
              "      <th>n_daily_data_points</th>\n",
              "      <td>0.000432</td>\n",
              "      <td>1.000000</td>\n",
              "      <td>0.002039</td>\n",
              "      <td>0.029411</td>\n",
              "      <td>0.030063</td>\n",
              "      <td>0.022669</td>\n",
              "      <td>0.023322</td>\n",
              "      <td>0.025738</td>\n",
              "      <td>0.026351</td>\n",
              "      <td>0.020873</td>\n",
              "      <td>0.021169</td>\n",
              "    </tr>\n",
              "    <tr>\n",
              "      <th>dayOfWeek</th>\n",
              "      <td>0.000343</td>\n",
              "      <td>0.002039</td>\n",
              "      <td>1.000000</td>\n",
              "      <td>0.079649</td>\n",
              "      <td>0.081954</td>\n",
              "      <td>0.069295</td>\n",
              "      <td>0.071713</td>\n",
              "      <td>0.068790</td>\n",
              "      <td>0.071279</td>\n",
              "      <td>0.049960</td>\n",
              "      <td>0.050468</td>\n",
              "    </tr>\n",
              "    <tr>\n",
              "      <th>BlueCars_taken_sum</th>\n",
              "      <td>-0.698020</td>\n",
              "      <td>0.029411</td>\n",
              "      <td>0.079649</td>\n",
              "      <td>1.000000</td>\n",
              "      <td>0.998660</td>\n",
              "      <td>0.893833</td>\n",
              "      <td>0.892850</td>\n",
              "      <td>0.940946</td>\n",
              "      <td>0.940757</td>\n",
              "      <td>0.948575</td>\n",
              "      <td>0.947996</td>\n",
              "    </tr>\n",
              "    <tr>\n",
              "      <th>BlueCars_returned_sum</th>\n",
              "      <td>-0.697519</td>\n",
              "      <td>0.030063</td>\n",
              "      <td>0.081954</td>\n",
              "      <td>0.998660</td>\n",
              "      <td>1.000000</td>\n",
              "      <td>0.893613</td>\n",
              "      <td>0.893268</td>\n",
              "      <td>0.940542</td>\n",
              "      <td>0.941117</td>\n",
              "      <td>0.948258</td>\n",
              "      <td>0.948771</td>\n",
              "    </tr>\n",
              "    <tr>\n",
              "      <th>Utilib_taken_sum</th>\n",
              "      <td>-0.625521</td>\n",
              "      <td>0.022669</td>\n",
              "      <td>0.069295</td>\n",
              "      <td>0.893833</td>\n",
              "      <td>0.893613</td>\n",
              "      <td>1.000000</td>\n",
              "      <td>0.981982</td>\n",
              "      <td>0.847519</td>\n",
              "      <td>0.846304</td>\n",
              "      <td>0.853760</td>\n",
              "      <td>0.853049</td>\n",
              "    </tr>\n",
              "    <tr>\n",
              "      <th>Utilib_returned_sum</th>\n",
              "      <td>-0.624786</td>\n",
              "      <td>0.023322</td>\n",
              "      <td>0.071713</td>\n",
              "      <td>0.892850</td>\n",
              "      <td>0.893268</td>\n",
              "      <td>0.981982</td>\n",
              "      <td>1.000000</td>\n",
              "      <td>0.845645</td>\n",
              "      <td>0.845306</td>\n",
              "      <td>0.852939</td>\n",
              "      <td>0.852936</td>\n",
              "    </tr>\n",
              "    <tr>\n",
              "      <th>Utilib_14_taken_sum</th>\n",
              "      <td>-0.656744</td>\n",
              "      <td>0.025738</td>\n",
              "      <td>0.068790</td>\n",
              "      <td>0.940946</td>\n",
              "      <td>0.940542</td>\n",
              "      <td>0.847519</td>\n",
              "      <td>0.845645</td>\n",
              "      <td>1.000000</td>\n",
              "      <td>0.992062</td>\n",
              "      <td>0.899232</td>\n",
              "      <td>0.898719</td>\n",
              "    </tr>\n",
              "    <tr>\n",
              "      <th>Utilib_14_returned_sum</th>\n",
              "      <td>-0.656516</td>\n",
              "      <td>0.026351</td>\n",
              "      <td>0.071279</td>\n",
              "      <td>0.940757</td>\n",
              "      <td>0.941117</td>\n",
              "      <td>0.846304</td>\n",
              "      <td>0.845306</td>\n",
              "      <td>0.992062</td>\n",
              "      <td>1.000000</td>\n",
              "      <td>0.899442</td>\n",
              "      <td>0.899777</td>\n",
              "    </tr>\n",
              "    <tr>\n",
              "      <th>Slots_freed_sum</th>\n",
              "      <td>-0.749528</td>\n",
              "      <td>0.020873</td>\n",
              "      <td>0.049960</td>\n",
              "      <td>0.948575</td>\n",
              "      <td>0.948258</td>\n",
              "      <td>0.853760</td>\n",
              "      <td>0.852939</td>\n",
              "      <td>0.899232</td>\n",
              "      <td>0.899442</td>\n",
              "      <td>1.000000</td>\n",
              "      <td>0.999221</td>\n",
              "    </tr>\n",
              "    <tr>\n",
              "      <th>Slots_taken_sum</th>\n",
              "      <td>-0.749157</td>\n",
              "      <td>0.021169</td>\n",
              "      <td>0.050468</td>\n",
              "      <td>0.947996</td>\n",
              "      <td>0.948771</td>\n",
              "      <td>0.853049</td>\n",
              "      <td>0.852936</td>\n",
              "      <td>0.898719</td>\n",
              "      <td>0.899777</td>\n",
              "      <td>0.999221</td>\n",
              "      <td>1.000000</td>\n",
              "    </tr>\n",
              "  </tbody>\n",
              "</table>\n",
              "</div>\n",
              "      <button class=\"colab-df-convert\" onclick=\"convertToInteractive('df-259c3bd2-5b77-4079-a5e0-6429521dd0dc')\"\n",
              "              title=\"Convert this dataframe to an interactive table.\"\n",
              "              style=\"display:none;\">\n",
              "        \n",
              "  <svg xmlns=\"http://www.w3.org/2000/svg\" height=\"24px\"viewBox=\"0 0 24 24\"\n",
              "       width=\"24px\">\n",
              "    <path d=\"M0 0h24v24H0V0z\" fill=\"none\"/>\n",
              "    <path d=\"M18.56 5.44l.94 2.06.94-2.06 2.06-.94-2.06-.94-.94-2.06-.94 2.06-2.06.94zm-11 1L8.5 8.5l.94-2.06 2.06-.94-2.06-.94L8.5 2.5l-.94 2.06-2.06.94zm10 10l.94 2.06.94-2.06 2.06-.94-2.06-.94-.94-2.06-.94 2.06-2.06.94z\"/><path d=\"M17.41 7.96l-1.37-1.37c-.4-.4-.92-.59-1.43-.59-.52 0-1.04.2-1.43.59L10.3 9.45l-7.72 7.72c-.78.78-.78 2.05 0 2.83L4 21.41c.39.39.9.59 1.41.59.51 0 1.02-.2 1.41-.59l7.78-7.78 2.81-2.81c.8-.78.8-2.07 0-2.86zM5.41 20L4 18.59l7.72-7.72 1.47 1.35L5.41 20z\"/>\n",
              "  </svg>\n",
              "      </button>\n",
              "      \n",
              "  <style>\n",
              "    .colab-df-container {\n",
              "      display:flex;\n",
              "      flex-wrap:wrap;\n",
              "      gap: 12px;\n",
              "    }\n",
              "\n",
              "    .colab-df-convert {\n",
              "      background-color: #E8F0FE;\n",
              "      border: none;\n",
              "      border-radius: 50%;\n",
              "      cursor: pointer;\n",
              "      display: none;\n",
              "      fill: #1967D2;\n",
              "      height: 32px;\n",
              "      padding: 0 0 0 0;\n",
              "      width: 32px;\n",
              "    }\n",
              "\n",
              "    .colab-df-convert:hover {\n",
              "      background-color: #E2EBFA;\n",
              "      box-shadow: 0px 1px 2px rgba(60, 64, 67, 0.3), 0px 1px 3px 1px rgba(60, 64, 67, 0.15);\n",
              "      fill: #174EA6;\n",
              "    }\n",
              "\n",
              "    [theme=dark] .colab-df-convert {\n",
              "      background-color: #3B4455;\n",
              "      fill: #D2E3FC;\n",
              "    }\n",
              "\n",
              "    [theme=dark] .colab-df-convert:hover {\n",
              "      background-color: #434B5C;\n",
              "      box-shadow: 0px 1px 3px 1px rgba(0, 0, 0, 0.15);\n",
              "      filter: drop-shadow(0px 1px 2px rgba(0, 0, 0, 0.3));\n",
              "      fill: #FFFFFF;\n",
              "    }\n",
              "  </style>\n",
              "\n",
              "      <script>\n",
              "        const buttonEl =\n",
              "          document.querySelector('#df-259c3bd2-5b77-4079-a5e0-6429521dd0dc button.colab-df-convert');\n",
              "        buttonEl.style.display =\n",
              "          google.colab.kernel.accessAllowed ? 'block' : 'none';\n",
              "\n",
              "        async function convertToInteractive(key) {\n",
              "          const element = document.querySelector('#df-259c3bd2-5b77-4079-a5e0-6429521dd0dc');\n",
              "          const dataTable =\n",
              "            await google.colab.kernel.invokeFunction('convertToInteractive',\n",
              "                                                     [key], {});\n",
              "          if (!dataTable) return;\n",
              "\n",
              "          const docLinkHtml = 'Like what you see? Visit the ' +\n",
              "            '<a target=\"_blank\" href=https://colab.research.google.com/notebooks/data_table.ipynb>data table notebook</a>'\n",
              "            + ' to learn more about interactive tables.';\n",
              "          element.innerHTML = '';\n",
              "          dataTable['output_type'] = 'display_data';\n",
              "          await google.colab.output.renderOutput(dataTable, element);\n",
              "          const docLink = document.createElement('div');\n",
              "          docLink.innerHTML = docLinkHtml;\n",
              "          element.appendChild(docLink);\n",
              "        }\n",
              "      </script>\n",
              "    </div>\n",
              "  </div>\n",
              "  "
            ],
            "text/plain": [
              "                        Postal code  ...  Slots_taken_sum\n",
              "Postal code                1.000000  ...        -0.749157\n",
              "n_daily_data_points        0.000432  ...         0.021169\n",
              "dayOfWeek                  0.000343  ...         0.050468\n",
              "BlueCars_taken_sum        -0.698020  ...         0.947996\n",
              "BlueCars_returned_sum     -0.697519  ...         0.948771\n",
              "Utilib_taken_sum          -0.625521  ...         0.853049\n",
              "Utilib_returned_sum       -0.624786  ...         0.852936\n",
              "Utilib_14_taken_sum       -0.656744  ...         0.898719\n",
              "Utilib_14_returned_sum    -0.656516  ...         0.899777\n",
              "Slots_freed_sum           -0.749528  ...         0.999221\n",
              "Slots_taken_sum           -0.749157  ...         1.000000\n",
              "\n",
              "[11 rows x 11 columns]"
            ]
          },
          "metadata": {},
          "execution_count": 45
        }
      ]
    },
    {
      "cell_type": "code",
      "source": [
        "#Heatmap\n",
        "plt.subplots(figsize = (20,10))\n",
        "sns.heatmap(corr_df, annot = True)\n",
        "plt.title('Visualizing Correlation using Heatmap', fontsize = 16, color = 'black' )\n",
        "\n",
        "\n",
        "plt.show()"
      ],
      "metadata": {
        "colab": {
          "base_uri": "https://localhost:8080/",
          "height": 593
        },
        "id": "cZqRoHetglNh",
        "outputId": "703a023e-0782-45e9-eb76-75046cd69d22"
      },
      "execution_count": 46,
      "outputs": [
        {
          "output_type": "display_data",
          "data": {
            "image/png": "[encoded data removed]",
            "text/plain": [
              "<Figure size 1440x720 with 2 Axes>"
            ]
          },
          "metadata": {
            "needs_background": "light"
          }
        }
      ]
    },
    {
      "cell_type": "markdown",
      "source": [
        "The heatmap shows the correlation among the variales in the data"
      ],
      "metadata": {
        "id": "WWEW6LYmislK"
      }
    },
    {
      "cell_type": "markdown",
      "source": [
        "# Implementing the solution: Hypothesis Testing"
      ],
      "metadata": {
        "id": "4OooNXteqFJe"
      }
    },
    {
      "cell_type": "markdown",
      "source": [
        " **Null hypothesis**: the mean of blue cars taken \n",
        "is equal to that of the blue cars returned\n",
        "\n",
        "\n",
        " **Alternative hypothesis**:  the mean of blue cars taken is not equal to that of the blue cars returned."
      ],
      "metadata": {
        "id": "3ZdqPduWyOum"
      }
    },
    {
      "cell_type": "code",
      "source": [
        "autolib_data.columns"
      ],
      "metadata": {
        "colab": {
          "base_uri": "https://localhost:8080/"
        },
        "id": "BqYwf59ArNen",
        "outputId": "55f6759e-f3cc-4bd3-b536-5913369b49c2"
      },
      "execution_count": 47,
      "outputs": [
        {
          "output_type": "execute_result",
          "data": {
            "text/plain": [
              "Index(['Postal code', 'date', 'n_daily_data_points', 'dayOfWeek', 'day_type',\n",
              "       'BlueCars_taken_sum', 'BlueCars_returned_sum', 'Utilib_taken_sum',\n",
              "       'Utilib_returned_sum', 'Utilib_14_taken_sum', 'Utilib_14_returned_sum',\n",
              "       'Slots_freed_sum', 'Slots_taken_sum'],\n",
              "      dtype='object')"
            ]
          },
          "metadata": {},
          "execution_count": 47
        }
      ]
    },
    {
      "cell_type": "code",
      "source": [
        "autolib_data.drop(['date', 'n_daily_data_points', 'Utilib_taken_sum', 'Utilib_returned_sum', 'Utilib_14_taken_sum', 'Utilib_14_returned_sum', 'Slots_freed_sum', 'Slots_taken_sum'], axis=1, inplace=True)\n",
        "autolib_data"
      ],
      "metadata": {
        "colab": {
          "base_uri": "https://localhost:8080/",
          "height": 424
        },
        "id": "E0MV_q1vrGHB",
        "outputId": "cd0217f0-e750-43f9-e22b-6ba20562bfb7"
      },
      "execution_count": 48,
      "outputs": [
        {
          "output_type": "execute_result",
          "data": {
            "text/html": [
              "\n",
              "  <div id=\"df-d9338406-a6a0-4030-a0c9-e4b287a8dd8d\">\n",
              "    <div class=\"colab-df-container\">\n",
              "      <div>\n",
              "<style scoped>\n",
              "    .dataframe tbody tr th:only-of-type {\n",
              "        vertical-align: middle;\n",
              "    }\n",
              "\n",
              "    .dataframe tbody tr th {\n",
              "        vertical-align: top;\n",
              "    }\n",
              "\n",
              "    .dataframe thead th {\n",
              "        text-align: right;\n",
              "    }\n",
              "</style>\n",
              "<table border=\"1\" class=\"dataframe\">\n",
              "  <thead>\n",
              "    <tr style=\"text-align: right;\">\n",
              "      <th></th>\n",
              "      <th>Postal code</th>\n",
              "      <th>dayOfWeek</th>\n",
              "      <th>day_type</th>\n",
              "      <th>BlueCars_taken_sum</th>\n",
              "      <th>BlueCars_returned_sum</th>\n",
              "    </tr>\n",
              "  </thead>\n",
              "  <tbody>\n",
              "    <tr>\n",
              "      <th>0</th>\n",
              "      <td>75001</td>\n",
              "      <td>0</td>\n",
              "      <td>weekday</td>\n",
              "      <td>110</td>\n",
              "      <td>103</td>\n",
              "    </tr>\n",
              "    <tr>\n",
              "      <th>1</th>\n",
              "      <td>75001</td>\n",
              "      <td>1</td>\n",
              "      <td>weekday</td>\n",
              "      <td>98</td>\n",
              "      <td>94</td>\n",
              "    </tr>\n",
              "    <tr>\n",
              "      <th>2</th>\n",
              "      <td>75001</td>\n",
              "      <td>2</td>\n",
              "      <td>weekday</td>\n",
              "      <td>138</td>\n",
              "      <td>139</td>\n",
              "    </tr>\n",
              "    <tr>\n",
              "      <th>3</th>\n",
              "      <td>75001</td>\n",
              "      <td>3</td>\n",
              "      <td>weekday</td>\n",
              "      <td>104</td>\n",
              "      <td>104</td>\n",
              "    </tr>\n",
              "    <tr>\n",
              "      <th>4</th>\n",
              "      <td>75001</td>\n",
              "      <td>4</td>\n",
              "      <td>weekday</td>\n",
              "      <td>114</td>\n",
              "      <td>117</td>\n",
              "    </tr>\n",
              "    <tr>\n",
              "      <th>...</th>\n",
              "      <td>...</td>\n",
              "      <td>...</td>\n",
              "      <td>...</td>\n",
              "      <td>...</td>\n",
              "      <td>...</td>\n",
              "    </tr>\n",
              "    <tr>\n",
              "      <th>16080</th>\n",
              "      <td>95880</td>\n",
              "      <td>4</td>\n",
              "      <td>weekday</td>\n",
              "      <td>15</td>\n",
              "      <td>10</td>\n",
              "    </tr>\n",
              "    <tr>\n",
              "      <th>16081</th>\n",
              "      <td>95880</td>\n",
              "      <td>5</td>\n",
              "      <td>weekend</td>\n",
              "      <td>19</td>\n",
              "      <td>19</td>\n",
              "    </tr>\n",
              "    <tr>\n",
              "      <th>16082</th>\n",
              "      <td>95880</td>\n",
              "      <td>6</td>\n",
              "      <td>weekend</td>\n",
              "      <td>33</td>\n",
              "      <td>35</td>\n",
              "    </tr>\n",
              "    <tr>\n",
              "      <th>16083</th>\n",
              "      <td>95880</td>\n",
              "      <td>0</td>\n",
              "      <td>weekday</td>\n",
              "      <td>11</td>\n",
              "      <td>14</td>\n",
              "    </tr>\n",
              "    <tr>\n",
              "      <th>16084</th>\n",
              "      <td>95880</td>\n",
              "      <td>1</td>\n",
              "      <td>weekday</td>\n",
              "      <td>2</td>\n",
              "      <td>2</td>\n",
              "    </tr>\n",
              "  </tbody>\n",
              "</table>\n",
              "<p>16085 rows × 5 columns</p>\n",
              "</div>\n",
              "      <button class=\"colab-df-convert\" onclick=\"convertToInteractive('df-d9338406-a6a0-4030-a0c9-e4b287a8dd8d')\"\n",
              "              title=\"Convert this dataframe to an interactive table.\"\n",
              "              style=\"display:none;\">\n",
              "        \n",
              "  <svg xmlns=\"http://www.w3.org/2000/svg\" height=\"24px\"viewBox=\"0 0 24 24\"\n",
              "       width=\"24px\">\n",
              "    <path d=\"M0 0h24v24H0V0z\" fill=\"none\"/>\n",
              "    <path d=\"M18.56 5.44l.94 2.06.94-2.06 2.06-.94-2.06-.94-.94-2.06-.94 2.06-2.06.94zm-11 1L8.5 8.5l.94-2.06 2.06-.94-2.06-.94L8.5 2.5l-.94 2.06-2.06.94zm10 10l.94 2.06.94-2.06 2.06-.94-2.06-.94-.94-2.06-.94 2.06-2.06.94z\"/><path d=\"M17.41 7.96l-1.37-1.37c-.4-.4-.92-.59-1.43-.59-.52 0-1.04.2-1.43.59L10.3 9.45l-7.72 7.72c-.78.78-.78 2.05 0 2.83L4 21.41c.39.39.9.59 1.41.59.51 0 1.02-.2 1.41-.59l7.78-7.78 2.81-2.81c.8-.78.8-2.07 0-2.86zM5.41 20L4 18.59l7.72-7.72 1.47 1.35L5.41 20z\"/>\n",
              "  </svg>\n",
              "      </button>\n",
              "      \n",
              "  <style>\n",
              "    .colab-df-container {\n",
              "      display:flex;\n",
              "      flex-wrap:wrap;\n",
              "      gap: 12px;\n",
              "    }\n",
              "\n",
              "    .colab-df-convert {\n",
              "      background-color: #E8F0FE;\n",
              "      border: none;\n",
              "      border-radius: 50%;\n",
              "      cursor: pointer;\n",
              "      display: none;\n",
              "      fill: #1967D2;\n",
              "      height: 32px;\n",
              "      padding: 0 0 0 0;\n",
              "      width: 32px;\n",
              "    }\n",
              "\n",
              "    .colab-df-convert:hover {\n",
              "      background-color: #E2EBFA;\n",
              "      box-shadow: 0px 1px 2px rgba(60, 64, 67, 0.3), 0px 1px 3px 1px rgba(60, 64, 67, 0.15);\n",
              "      fill: #174EA6;\n",
              "    }\n",
              "\n",
              "    [theme=dark] .colab-df-convert {\n",
              "      background-color: #3B4455;\n",
              "      fill: #D2E3FC;\n",
              "    }\n",
              "\n",
              "    [theme=dark] .colab-df-convert:hover {\n",
              "      background-color: #434B5C;\n",
              "      box-shadow: 0px 1px 3px 1px rgba(0, 0, 0, 0.15);\n",
              "      filter: drop-shadow(0px 1px 2px rgba(0, 0, 0, 0.3));\n",
              "      fill: #FFFFFF;\n",
              "    }\n",
              "  </style>\n",
              "\n",
              "      <script>\n",
              "        const buttonEl =\n",
              "          document.querySelector('#df-d9338406-a6a0-4030-a0c9-e4b287a8dd8d button.colab-df-convert');\n",
              "        buttonEl.style.display =\n",
              "          google.colab.kernel.accessAllowed ? 'block' : 'none';\n",
              "\n",
              "        async function convertToInteractive(key) {\n",
              "          const element = document.querySelector('#df-d9338406-a6a0-4030-a0c9-e4b287a8dd8d');\n",
              "          const dataTable =\n",
              "            await google.colab.kernel.invokeFunction('convertToInteractive',\n",
              "                                                     [key], {});\n",
              "          if (!dataTable) return;\n",
              "\n",
              "          const docLinkHtml = 'Like what you see? Visit the ' +\n",
              "            '<a target=\"_blank\" href=https://colab.research.google.com/notebooks/data_table.ipynb>data table notebook</a>'\n",
              "            + ' to learn more about interactive tables.';\n",
              "          element.innerHTML = '';\n",
              "          dataTable['output_type'] = 'display_data';\n",
              "          await google.colab.output.renderOutput(dataTable, element);\n",
              "          const docLink = document.createElement('div');\n",
              "          docLink.innerHTML = docLinkHtml;\n",
              "          element.appendChild(docLink);\n",
              "        }\n",
              "      </script>\n",
              "    </div>\n",
              "  </div>\n",
              "  "
            ],
            "text/plain": [
              "       Postal code  dayOfWeek  ... BlueCars_taken_sum  BlueCars_returned_sum\n",
              "0            75001          0  ...                110                    103\n",
              "1            75001          1  ...                 98                     94\n",
              "2            75001          2  ...                138                    139\n",
              "3            75001          3  ...                104                    104\n",
              "4            75001          4  ...                114                    117\n",
              "...            ...        ...  ...                ...                    ...\n",
              "16080        95880          4  ...                 15                     10\n",
              "16081        95880          5  ...                 19                     19\n",
              "16082        95880          6  ...                 33                     35\n",
              "16083        95880          0  ...                 11                     14\n",
              "16084        95880          1  ...                  2                      2\n",
              "\n",
              "[16085 rows x 5 columns]"
            ]
          },
          "metadata": {},
          "execution_count": 48
        }
      ]
    },
    {
      "cell_type": "markdown",
      "source": [
        "Information about blue cars was filtered in line with nour research question"
      ],
      "metadata": {
        "id": "wLdl6fRZjB6m"
      }
    },
    {
      "cell_type": "code",
      "source": [
        "# Extract day type data\n",
        "autolib = autolib_data[autolib_data.day_type == 'weekend']\n",
        "autolib.head()"
      ],
      "metadata": {
        "colab": {
          "base_uri": "https://localhost:8080/",
          "height": 206
        },
        "id": "8BccZvswrr1Y",
        "outputId": "9d891cb3-ac49-436e-bb8d-20138299eef2"
      },
      "execution_count": 49,
      "outputs": [
        {
          "output_type": "execute_result",
          "data": {
            "text/html": [
              "\n",
              "  <div id=\"df-ac402166-2fe7-4926-b1c1-5cc164e13ee0\">\n",
              "    <div class=\"colab-df-container\">\n",
              "      <div>\n",
              "<style scoped>\n",
              "    .dataframe tbody tr th:only-of-type {\n",
              "        vertical-align: middle;\n",
              "    }\n",
              "\n",
              "    .dataframe tbody tr th {\n",
              "        vertical-align: top;\n",
              "    }\n",
              "\n",
              "    .dataframe thead th {\n",
              "        text-align: right;\n",
              "    }\n",
              "</style>\n",
              "<table border=\"1\" class=\"dataframe\">\n",
              "  <thead>\n",
              "    <tr style=\"text-align: right;\">\n",
              "      <th></th>\n",
              "      <th>Postal code</th>\n",
              "      <th>dayOfWeek</th>\n",
              "      <th>day_type</th>\n",
              "      <th>BlueCars_taken_sum</th>\n",
              "      <th>BlueCars_returned_sum</th>\n",
              "    </tr>\n",
              "  </thead>\n",
              "  <tbody>\n",
              "    <tr>\n",
              "      <th>5</th>\n",
              "      <td>75001</td>\n",
              "      <td>5</td>\n",
              "      <td>weekend</td>\n",
              "      <td>187</td>\n",
              "      <td>185</td>\n",
              "    </tr>\n",
              "    <tr>\n",
              "      <th>6</th>\n",
              "      <td>75001</td>\n",
              "      <td>6</td>\n",
              "      <td>weekend</td>\n",
              "      <td>180</td>\n",
              "      <td>180</td>\n",
              "    </tr>\n",
              "    <tr>\n",
              "      <th>12</th>\n",
              "      <td>75001</td>\n",
              "      <td>5</td>\n",
              "      <td>weekend</td>\n",
              "      <td>224</td>\n",
              "      <td>223</td>\n",
              "    </tr>\n",
              "    <tr>\n",
              "      <th>13</th>\n",
              "      <td>75001</td>\n",
              "      <td>6</td>\n",
              "      <td>weekend</td>\n",
              "      <td>193</td>\n",
              "      <td>193</td>\n",
              "    </tr>\n",
              "    <tr>\n",
              "      <th>19</th>\n",
              "      <td>75001</td>\n",
              "      <td>5</td>\n",
              "      <td>weekend</td>\n",
              "      <td>217</td>\n",
              "      <td>217</td>\n",
              "    </tr>\n",
              "  </tbody>\n",
              "</table>\n",
              "</div>\n",
              "      <button class=\"colab-df-convert\" onclick=\"convertToInteractive('df-ac402166-2fe7-4926-b1c1-5cc164e13ee0')\"\n",
              "              title=\"Convert this dataframe to an interactive table.\"\n",
              "              style=\"display:none;\">\n",
              "        \n",
              "  <svg xmlns=\"http://www.w3.org/2000/svg\" height=\"24px\"viewBox=\"0 0 24 24\"\n",
              "       width=\"24px\">\n",
              "    <path d=\"M0 0h24v24H0V0z\" fill=\"none\"/>\n",
              "    <path d=\"M18.56 5.44l.94 2.06.94-2.06 2.06-.94-2.06-.94-.94-2.06-.94 2.06-2.06.94zm-11 1L8.5 8.5l.94-2.06 2.06-.94-2.06-.94L8.5 2.5l-.94 2.06-2.06.94zm10 10l.94 2.06.94-2.06 2.06-.94-2.06-.94-.94-2.06-.94 2.06-2.06.94z\"/><path d=\"M17.41 7.96l-1.37-1.37c-.4-.4-.92-.59-1.43-.59-.52 0-1.04.2-1.43.59L10.3 9.45l-7.72 7.72c-.78.78-.78 2.05 0 2.83L4 21.41c.39.39.9.59 1.41.59.51 0 1.02-.2 1.41-.59l7.78-7.78 2.81-2.81c.8-.78.8-2.07 0-2.86zM5.41 20L4 18.59l7.72-7.72 1.47 1.35L5.41 20z\"/>\n",
              "  </svg>\n",
              "      </button>\n",
              "      \n",
              "  <style>\n",
              "    .colab-df-container {\n",
              "      display:flex;\n",
              "      flex-wrap:wrap;\n",
              "      gap: 12px;\n",
              "    }\n",
              "\n",
              "    .colab-df-convert {\n",
              "      background-color: #E8F0FE;\n",
              "      border: none;\n",
              "      border-radius: 50%;\n",
              "      cursor: pointer;\n",
              "      display: none;\n",
              "      fill: #1967D2;\n",
              "      height: 32px;\n",
              "      padding: 0 0 0 0;\n",
              "      width: 32px;\n",
              "    }\n",
              "\n",
              "    .colab-df-convert:hover {\n",
              "      background-color: #E2EBFA;\n",
              "      box-shadow: 0px 1px 2px rgba(60, 64, 67, 0.3), 0px 1px 3px 1px rgba(60, 64, 67, 0.15);\n",
              "      fill: #174EA6;\n",
              "    }\n",
              "\n",
              "    [theme=dark] .colab-df-convert {\n",
              "      background-color: #3B4455;\n",
              "      fill: #D2E3FC;\n",
              "    }\n",
              "\n",
              "    [theme=dark] .colab-df-convert:hover {\n",
              "      background-color: #434B5C;\n",
              "      box-shadow: 0px 1px 3px 1px rgba(0, 0, 0, 0.15);\n",
              "      filter: drop-shadow(0px 1px 2px rgba(0, 0, 0, 0.3));\n",
              "      fill: #FFFFFF;\n",
              "    }\n",
              "  </style>\n",
              "\n",
              "      <script>\n",
              "        const buttonEl =\n",
              "          document.querySelector('#df-ac402166-2fe7-4926-b1c1-5cc164e13ee0 button.colab-df-convert');\n",
              "        buttonEl.style.display =\n",
              "          google.colab.kernel.accessAllowed ? 'block' : 'none';\n",
              "\n",
              "        async function convertToInteractive(key) {\n",
              "          const element = document.querySelector('#df-ac402166-2fe7-4926-b1c1-5cc164e13ee0');\n",
              "          const dataTable =\n",
              "            await google.colab.kernel.invokeFunction('convertToInteractive',\n",
              "                                                     [key], {});\n",
              "          if (!dataTable) return;\n",
              "\n",
              "          const docLinkHtml = 'Like what you see? Visit the ' +\n",
              "            '<a target=\"_blank\" href=https://colab.research.google.com/notebooks/data_table.ipynb>data table notebook</a>'\n",
              "            + ' to learn more about interactive tables.';\n",
              "          element.innerHTML = '';\n",
              "          dataTable['output_type'] = 'display_data';\n",
              "          await google.colab.output.renderOutput(dataTable, element);\n",
              "          const docLink = document.createElement('div');\n",
              "          docLink.innerHTML = docLinkHtml;\n",
              "          element.appendChild(docLink);\n",
              "        }\n",
              "      </script>\n",
              "    </div>\n",
              "  </div>\n",
              "  "
            ],
            "text/plain": [
              "    Postal code  dayOfWeek day_type  BlueCars_taken_sum  BlueCars_returned_sum\n",
              "5         75001          5  weekend                 187                    185\n",
              "6         75001          6  weekend                 180                    180\n",
              "12        75001          5  weekend                 224                    223\n",
              "13        75001          6  weekend                 193                    193\n",
              "19        75001          5  weekend                 217                    217"
            ]
          },
          "metadata": {},
          "execution_count": 49
        }
      ]
    },
    {
      "cell_type": "markdown",
      "source": [
        "Weekend data was extracted which is the period of our study"
      ],
      "metadata": {
        "id": "e7uN_D9hjUP2"
      }
    },
    {
      "cell_type": "code",
      "source": [
        "autolib.shape"
      ],
      "metadata": {
        "colab": {
          "base_uri": "https://localhost:8080/"
        },
        "id": "cSU_PZQ4u9h4",
        "outputId": "e9cdca93-b639-423b-fb36-d5ac1d1ed409"
      },
      "execution_count": 50,
      "outputs": [
        {
          "output_type": "execute_result",
          "data": {
            "text/plain": [
              "(4541, 5)"
            ]
          },
          "metadata": {},
          "execution_count": 50
        }
      ]
    },
    {
      "cell_type": "code",
      "source": [
        "autolib.drop(['day_type'], axis=1, inplace=True)\n",
        "autolib"
      ],
      "metadata": {
        "colab": {
          "base_uri": "https://localhost:8080/",
          "height": 530
        },
        "id": "lt7Ej2PAt7OW",
        "outputId": "f87c64e7-5e9b-4b2b-da11-4b70782def36"
      },
      "execution_count": 51,
      "outputs": [
        {
          "output_type": "stream",
          "name": "stderr",
          "text": [
            "/usr/local/lib/python3.7/dist-packages/pandas/core/frame.py:4174: SettingWithCopyWarning: \n",
            "A value is trying to be set on a copy of a slice from a DataFrame\n",
            "\n",
            "See the caveats in the documentation: https://pandas.pydata.org/pandas-docs/stable/user_guide/indexing.html#returning-a-view-versus-a-copy\n",
            "  errors=errors,\n"
          ]
        },
        {
          "output_type": "execute_result",
          "data": {
            "text/html": [
              "\n",
              "  <div id=\"df-1805064c-8aa2-4336-9ec7-875a00234cce\">\n",
              "    <div class=\"colab-df-container\">\n",
              "      <div>\n",
              "<style scoped>\n",
              "    .dataframe tbody tr th:only-of-type {\n",
              "        vertical-align: middle;\n",
              "    }\n",
              "\n",
              "    .dataframe tbody tr th {\n",
              "        vertical-align: top;\n",
              "    }\n",
              "\n",
              "    .dataframe thead th {\n",
              "        text-align: right;\n",
              "    }\n",
              "</style>\n",
              "<table border=\"1\" class=\"dataframe\">\n",
              "  <thead>\n",
              "    <tr style=\"text-align: right;\">\n",
              "      <th></th>\n",
              "      <th>Postal code</th>\n",
              "      <th>dayOfWeek</th>\n",
              "      <th>BlueCars_taken_sum</th>\n",
              "      <th>BlueCars_returned_sum</th>\n",
              "    </tr>\n",
              "  </thead>\n",
              "  <tbody>\n",
              "    <tr>\n",
              "      <th>5</th>\n",
              "      <td>75001</td>\n",
              "      <td>5</td>\n",
              "      <td>187</td>\n",
              "      <td>185</td>\n",
              "    </tr>\n",
              "    <tr>\n",
              "      <th>6</th>\n",
              "      <td>75001</td>\n",
              "      <td>6</td>\n",
              "      <td>180</td>\n",
              "      <td>180</td>\n",
              "    </tr>\n",
              "    <tr>\n",
              "      <th>12</th>\n",
              "      <td>75001</td>\n",
              "      <td>5</td>\n",
              "      <td>224</td>\n",
              "      <td>223</td>\n",
              "    </tr>\n",
              "    <tr>\n",
              "      <th>13</th>\n",
              "      <td>75001</td>\n",
              "      <td>6</td>\n",
              "      <td>193</td>\n",
              "      <td>193</td>\n",
              "    </tr>\n",
              "    <tr>\n",
              "      <th>19</th>\n",
              "      <td>75001</td>\n",
              "      <td>5</td>\n",
              "      <td>217</td>\n",
              "      <td>217</td>\n",
              "    </tr>\n",
              "    <tr>\n",
              "      <th>...</th>\n",
              "      <td>...</td>\n",
              "      <td>...</td>\n",
              "      <td>...</td>\n",
              "      <td>...</td>\n",
              "    </tr>\n",
              "    <tr>\n",
              "      <th>16068</th>\n",
              "      <td>95880</td>\n",
              "      <td>6</td>\n",
              "      <td>36</td>\n",
              "      <td>33</td>\n",
              "    </tr>\n",
              "    <tr>\n",
              "      <th>16074</th>\n",
              "      <td>95880</td>\n",
              "      <td>5</td>\n",
              "      <td>15</td>\n",
              "      <td>15</td>\n",
              "    </tr>\n",
              "    <tr>\n",
              "      <th>16075</th>\n",
              "      <td>95880</td>\n",
              "      <td>6</td>\n",
              "      <td>34</td>\n",
              "      <td>32</td>\n",
              "    </tr>\n",
              "    <tr>\n",
              "      <th>16081</th>\n",
              "      <td>95880</td>\n",
              "      <td>5</td>\n",
              "      <td>19</td>\n",
              "      <td>19</td>\n",
              "    </tr>\n",
              "    <tr>\n",
              "      <th>16082</th>\n",
              "      <td>95880</td>\n",
              "      <td>6</td>\n",
              "      <td>33</td>\n",
              "      <td>35</td>\n",
              "    </tr>\n",
              "  </tbody>\n",
              "</table>\n",
              "<p>4541 rows × 4 columns</p>\n",
              "</div>\n",
              "      <button class=\"colab-df-convert\" onclick=\"convertToInteractive('df-1805064c-8aa2-4336-9ec7-875a00234cce')\"\n",
              "              title=\"Convert this dataframe to an interactive table.\"\n",
              "              style=\"display:none;\">\n",
              "        \n",
              "  <svg xmlns=\"http://www.w3.org/2000/svg\" height=\"24px\"viewBox=\"0 0 24 24\"\n",
              "       width=\"24px\">\n",
              "    <path d=\"M0 0h24v24H0V0z\" fill=\"none\"/>\n",
              "    <path d=\"M18.56 5.44l.94 2.06.94-2.06 2.06-.94-2.06-.94-.94-2.06-.94 2.06-2.06.94zm-11 1L8.5 8.5l.94-2.06 2.06-.94-2.06-.94L8.5 2.5l-.94 2.06-2.06.94zm10 10l.94 2.06.94-2.06 2.06-.94-2.06-.94-.94-2.06-.94 2.06-2.06.94z\"/><path d=\"M17.41 7.96l-1.37-1.37c-.4-.4-.92-.59-1.43-.59-.52 0-1.04.2-1.43.59L10.3 9.45l-7.72 7.72c-.78.78-.78 2.05 0 2.83L4 21.41c.39.39.9.59 1.41.59.51 0 1.02-.2 1.41-.59l7.78-7.78 2.81-2.81c.8-.78.8-2.07 0-2.86zM5.41 20L4 18.59l7.72-7.72 1.47 1.35L5.41 20z\"/>\n",
              "  </svg>\n",
              "      </button>\n",
              "      \n",
              "  <style>\n",
              "    .colab-df-container {\n",
              "      display:flex;\n",
              "      flex-wrap:wrap;\n",
              "      gap: 12px;\n",
              "    }\n",
              "\n",
              "    .colab-df-convert {\n",
              "      background-color: #E8F0FE;\n",
              "      border: none;\n",
              "      border-radius: 50%;\n",
              "      cursor: pointer;\n",
              "      display: none;\n",
              "      fill: #1967D2;\n",
              "      height: 32px;\n",
              "      padding: 0 0 0 0;\n",
              "      width: 32px;\n",
              "    }\n",
              "\n",
              "    .colab-df-convert:hover {\n",
              "      background-color: #E2EBFA;\n",
              "      box-shadow: 0px 1px 2px rgba(60, 64, 67, 0.3), 0px 1px 3px 1px rgba(60, 64, 67, 0.15);\n",
              "      fill: #174EA6;\n",
              "    }\n",
              "\n",
              "    [theme=dark] .colab-df-convert {\n",
              "      background-color: #3B4455;\n",
              "      fill: #D2E3FC;\n",
              "    }\n",
              "\n",
              "    [theme=dark] .colab-df-convert:hover {\n",
              "      background-color: #434B5C;\n",
              "      box-shadow: 0px 1px 3px 1px rgba(0, 0, 0, 0.15);\n",
              "      filter: drop-shadow(0px 1px 2px rgba(0, 0, 0, 0.3));\n",
              "      fill: #FFFFFF;\n",
              "    }\n",
              "  </style>\n",
              "\n",
              "      <script>\n",
              "        const buttonEl =\n",
              "          document.querySelector('#df-1805064c-8aa2-4336-9ec7-875a00234cce button.colab-df-convert');\n",
              "        buttonEl.style.display =\n",
              "          google.colab.kernel.accessAllowed ? 'block' : 'none';\n",
              "\n",
              "        async function convertToInteractive(key) {\n",
              "          const element = document.querySelector('#df-1805064c-8aa2-4336-9ec7-875a00234cce');\n",
              "          const dataTable =\n",
              "            await google.colab.kernel.invokeFunction('convertToInteractive',\n",
              "                                                     [key], {});\n",
              "          if (!dataTable) return;\n",
              "\n",
              "          const docLinkHtml = 'Like what you see? Visit the ' +\n",
              "            '<a target=\"_blank\" href=https://colab.research.google.com/notebooks/data_table.ipynb>data table notebook</a>'\n",
              "            + ' to learn more about interactive tables.';\n",
              "          element.innerHTML = '';\n",
              "          dataTable['output_type'] = 'display_data';\n",
              "          await google.colab.output.renderOutput(dataTable, element);\n",
              "          const docLink = document.createElement('div');\n",
              "          docLink.innerHTML = docLinkHtml;\n",
              "          element.appendChild(docLink);\n",
              "        }\n",
              "      </script>\n",
              "    </div>\n",
              "  </div>\n",
              "  "
            ],
            "text/plain": [
              "       Postal code  dayOfWeek  BlueCars_taken_sum  BlueCars_returned_sum\n",
              "5            75001          5                 187                    185\n",
              "6            75001          6                 180                    180\n",
              "12           75001          5                 224                    223\n",
              "13           75001          6                 193                    193\n",
              "19           75001          5                 217                    217\n",
              "...            ...        ...                 ...                    ...\n",
              "16068        95880          6                  36                     33\n",
              "16074        95880          5                  15                     15\n",
              "16075        95880          6                  34                     32\n",
              "16081        95880          5                  19                     19\n",
              "16082        95880          6                  33                     35\n",
              "\n",
              "[4541 rows x 4 columns]"
            ]
          },
          "metadata": {},
          "execution_count": 51
        }
      ]
    },
    {
      "cell_type": "code",
      "source": [
        "# visualization styling code\n",
        "sns.set(rc={'figure.figsize':(13, 7.5)})\n",
        "sns.set_context('talk')"
      ],
      "metadata": {
        "id": "LDeXhQqNsjEQ"
      },
      "execution_count": 52,
      "outputs": []
    },
    {
      "cell_type": "markdown",
      "source": [
        "### Stratified Sampling.\n"
      ],
      "metadata": {
        "id": "kd0SvYTstObF"
      }
    },
    {
      "cell_type": "code",
      "source": [
        "import scipy.stats as stats\n",
        "from sklearn.cluster import KMeans\n",
        "from sklearn.preprocessing import LabelEncoder\n",
        "from sklearn.preprocessing import MinMaxScaler\n",
        "import time                   \n",
        "import warnings             \n",
        "sns.set()\n",
        "import plotly.graph_objs as go\n",
        "from plotly.offline import download_plotlyjs, init_notebook_mode, plot, iplot\n",
        "init_notebook_mode(connected=True)\n",
        "from sklearn.preprocessing import StandardScaler  \n",
        "from sklearn.cluster import KMeans, AgglomerativeClustering, AffinityPropagation \n",
        "from sklearn.mixture import GaussianMixture \n",
        "import os                    \n",
        "import sys  "
      ],
      "metadata": {
        "colab": {
          "base_uri": "https://localhost:8080/",
          "height": 17
        },
        "id": "hbvnUMA5tXNh",
        "outputId": "03e86fb6-b073-4a41-ec3e-e7faf61dd999"
      },
      "execution_count": 53,
      "outputs": [
        {
          "output_type": "display_data",
          "data": {
            "text/html": [
              "        <script type=\"text/javascript\">\n",
              "        window.PlotlyConfig = {MathJaxConfig: 'local'};\n",
              "        if (window.MathJax) {MathJax.Hub.Config({SVG: {font: \"STIX-Web\"}});}\n",
              "        if (typeof require !== 'undefined') {\n",
              "        require.undef(\"plotly\");\n",
              "        requirejs.config({\n",
              "            paths: {\n",
              "                'plotly': ['https://cdn.plot.ly/plotly-latest.min']\n",
              "            }\n",
              "        });\n",
              "        require(['plotly'], function(Plotly) {\n",
              "            window._Plotly = Plotly;\n",
              "        });\n",
              "        }\n",
              "        </script>\n",
              "        "
            ]
          },
          "metadata": {}
        }
      ]
    },
    {
      "cell_type": "code",
      "source": [
        "# Stratified sample\n",
        "autolib_sample = autolib.groupby('dayOfWeek', group_keys=False).apply(lambda grouped_subset : grouped_subset.sample(frac=0.7))\n",
        "autolib_sample"
      ],
      "metadata": {
        "colab": {
          "base_uri": "https://localhost:8080/",
          "height": 424
        },
        "id": "bzRPh9-rt1Zv",
        "outputId": "15b81f8a-103a-4b99-c229-4dca47fa28ee"
      },
      "execution_count": 54,
      "outputs": [
        {
          "output_type": "execute_result",
          "data": {
            "text/html": [
              "\n",
              "  <div id=\"df-f418b5d0-0d33-4560-8cd2-b5b36ea8fd5e\">\n",
              "    <div class=\"colab-df-container\">\n",
              "      <div>\n",
              "<style scoped>\n",
              "    .dataframe tbody tr th:only-of-type {\n",
              "        vertical-align: middle;\n",
              "    }\n",
              "\n",
              "    .dataframe tbody tr th {\n",
              "        vertical-align: top;\n",
              "    }\n",
              "\n",
              "    .dataframe thead th {\n",
              "        text-align: right;\n",
              "    }\n",
              "</style>\n",
              "<table border=\"1\" class=\"dataframe\">\n",
              "  <thead>\n",
              "    <tr style=\"text-align: right;\">\n",
              "      <th></th>\n",
              "      <th>Postal code</th>\n",
              "      <th>dayOfWeek</th>\n",
              "      <th>BlueCars_taken_sum</th>\n",
              "      <th>BlueCars_returned_sum</th>\n",
              "    </tr>\n",
              "  </thead>\n",
              "  <tbody>\n",
              "    <tr>\n",
              "      <th>14352</th>\n",
              "      <td>94220</td>\n",
              "      <td>5</td>\n",
              "      <td>53</td>\n",
              "      <td>49</td>\n",
              "    </tr>\n",
              "    <tr>\n",
              "      <th>7490</th>\n",
              "      <td>92310</td>\n",
              "      <td>5</td>\n",
              "      <td>64</td>\n",
              "      <td>64</td>\n",
              "    </tr>\n",
              "    <tr>\n",
              "      <th>12101</th>\n",
              "      <td>93400</td>\n",
              "      <td>5</td>\n",
              "      <td>159</td>\n",
              "      <td>170</td>\n",
              "    </tr>\n",
              "    <tr>\n",
              "      <th>6642</th>\n",
              "      <td>92240</td>\n",
              "      <td>5</td>\n",
              "      <td>117</td>\n",
              "      <td>107</td>\n",
              "    </tr>\n",
              "    <tr>\n",
              "      <th>324</th>\n",
              "      <td>75003</td>\n",
              "      <td>5</td>\n",
              "      <td>380</td>\n",
              "      <td>379</td>\n",
              "    </tr>\n",
              "    <tr>\n",
              "      <th>...</th>\n",
              "      <td>...</td>\n",
              "      <td>...</td>\n",
              "      <td>...</td>\n",
              "      <td>...</td>\n",
              "    </tr>\n",
              "    <tr>\n",
              "      <th>1051</th>\n",
              "      <td>75007</td>\n",
              "      <td>6</td>\n",
              "      <td>238</td>\n",
              "      <td>239</td>\n",
              "    </tr>\n",
              "    <tr>\n",
              "      <th>360</th>\n",
              "      <td>75003</td>\n",
              "      <td>6</td>\n",
              "      <td>277</td>\n",
              "      <td>290</td>\n",
              "    </tr>\n",
              "    <tr>\n",
              "      <th>6986</th>\n",
              "      <td>92260</td>\n",
              "      <td>6</td>\n",
              "      <td>13</td>\n",
              "      <td>24</td>\n",
              "    </tr>\n",
              "    <tr>\n",
              "      <th>2984</th>\n",
              "      <td>75020</td>\n",
              "      <td>6</td>\n",
              "      <td>586</td>\n",
              "      <td>624</td>\n",
              "    </tr>\n",
              "    <tr>\n",
              "      <th>3096</th>\n",
              "      <td>75020</td>\n",
              "      <td>6</td>\n",
              "      <td>651</td>\n",
              "      <td>678</td>\n",
              "    </tr>\n",
              "  </tbody>\n",
              "</table>\n",
              "<p>3179 rows × 4 columns</p>\n",
              "</div>\n",
              "      <button class=\"colab-df-convert\" onclick=\"convertToInteractive('df-f418b5d0-0d33-4560-8cd2-b5b36ea8fd5e')\"\n",
              "              title=\"Convert this dataframe to an interactive table.\"\n",
              "              style=\"display:none;\">\n",
              "        \n",
              "  <svg xmlns=\"http://www.w3.org/2000/svg\" height=\"24px\"viewBox=\"0 0 24 24\"\n",
              "       width=\"24px\">\n",
              "    <path d=\"M0 0h24v24H0V0z\" fill=\"none\"/>\n",
              "    <path d=\"M18.56 5.44l.94 2.06.94-2.06 2.06-.94-2.06-.94-.94-2.06-.94 2.06-2.06.94zm-11 1L8.5 8.5l.94-2.06 2.06-.94-2.06-.94L8.5 2.5l-.94 2.06-2.06.94zm10 10l.94 2.06.94-2.06 2.06-.94-2.06-.94-.94-2.06-.94 2.06-2.06.94z\"/><path d=\"M17.41 7.96l-1.37-1.37c-.4-.4-.92-.59-1.43-.59-.52 0-1.04.2-1.43.59L10.3 9.45l-7.72 7.72c-.78.78-.78 2.05 0 2.83L4 21.41c.39.39.9.59 1.41.59.51 0 1.02-.2 1.41-.59l7.78-7.78 2.81-2.81c.8-.78.8-2.07 0-2.86zM5.41 20L4 18.59l7.72-7.72 1.47 1.35L5.41 20z\"/>\n",
              "  </svg>\n",
              "      </button>\n",
              "      \n",
              "  <style>\n",
              "    .colab-df-container {\n",
              "      display:flex;\n",
              "      flex-wrap:wrap;\n",
              "      gap: 12px;\n",
              "    }\n",
              "\n",
              "    .colab-df-convert {\n",
              "      background-color: #E8F0FE;\n",
              "      border: none;\n",
              "      border-radius: 50%;\n",
              "      cursor: pointer;\n",
              "      display: none;\n",
              "      fill: #1967D2;\n",
              "      height: 32px;\n",
              "      padding: 0 0 0 0;\n",
              "      width: 32px;\n",
              "    }\n",
              "\n",
              "    .colab-df-convert:hover {\n",
              "      background-color: #E2EBFA;\n",
              "      box-shadow: 0px 1px 2px rgba(60, 64, 67, 0.3), 0px 1px 3px 1px rgba(60, 64, 67, 0.15);\n",
              "      fill: #174EA6;\n",
              "    }\n",
              "\n",
              "    [theme=dark] .colab-df-convert {\n",
              "      background-color: #3B4455;\n",
              "      fill: #D2E3FC;\n",
              "    }\n",
              "\n",
              "    [theme=dark] .colab-df-convert:hover {\n",
              "      background-color: #434B5C;\n",
              "      box-shadow: 0px 1px 3px 1px rgba(0, 0, 0, 0.15);\n",
              "      filter: drop-shadow(0px 1px 2px rgba(0, 0, 0, 0.3));\n",
              "      fill: #FFFFFF;\n",
              "    }\n",
              "  </style>\n",
              "\n",
              "      <script>\n",
              "        const buttonEl =\n",
              "          document.querySelector('#df-f418b5d0-0d33-4560-8cd2-b5b36ea8fd5e button.colab-df-convert');\n",
              "        buttonEl.style.display =\n",
              "          google.colab.kernel.accessAllowed ? 'block' : 'none';\n",
              "\n",
              "        async function convertToInteractive(key) {\n",
              "          const element = document.querySelector('#df-f418b5d0-0d33-4560-8cd2-b5b36ea8fd5e');\n",
              "          const dataTable =\n",
              "            await google.colab.kernel.invokeFunction('convertToInteractive',\n",
              "                                                     [key], {});\n",
              "          if (!dataTable) return;\n",
              "\n",
              "          const docLinkHtml = 'Like what you see? Visit the ' +\n",
              "            '<a target=\"_blank\" href=https://colab.research.google.com/notebooks/data_table.ipynb>data table notebook</a>'\n",
              "            + ' to learn more about interactive tables.';\n",
              "          element.innerHTML = '';\n",
              "          dataTable['output_type'] = 'display_data';\n",
              "          await google.colab.output.renderOutput(dataTable, element);\n",
              "          const docLink = document.createElement('div');\n",
              "          docLink.innerHTML = docLinkHtml;\n",
              "          element.appendChild(docLink);\n",
              "        }\n",
              "      </script>\n",
              "    </div>\n",
              "  </div>\n",
              "  "
            ],
            "text/plain": [
              "       Postal code  dayOfWeek  BlueCars_taken_sum  BlueCars_returned_sum\n",
              "14352        94220          5                  53                     49\n",
              "7490         92310          5                  64                     64\n",
              "12101        93400          5                 159                    170\n",
              "6642         92240          5                 117                    107\n",
              "324          75003          5                 380                    379\n",
              "...            ...        ...                 ...                    ...\n",
              "1051         75007          6                 238                    239\n",
              "360          75003          6                 277                    290\n",
              "6986         92260          6                  13                     24\n",
              "2984         75020          6                 586                    624\n",
              "3096         75020          6                 651                    678\n",
              "\n",
              "[3179 rows x 4 columns]"
            ]
          },
          "metadata": {},
          "execution_count": 54
        }
      ]
    },
    {
      "cell_type": "markdown",
      "source": [
        "A stratified sample comprising of 70% of the data was used to provide more accurate mean values"
      ],
      "metadata": {
        "id": "eUV68UyBlIdE"
      }
    },
    {
      "cell_type": "code",
      "source": [
        "# testing for normality for Bluecars Taken \n",
        "from scipy.stats import shapiro \n",
        "stat, p = shapiro(autolib_sample['BlueCars_taken_sum'])\n",
        "print('Statistics=%.3f, p=%.3f' % (stat, p))\n",
        "\n",
        "# interpreting\n",
        "alpha = 0.05\n",
        "if p > alpha:\n",
        "\tprint('Sample looks Gaussian')\n",
        "else:\n",
        "\tprint('Sample does not look Gaussian')"
      ],
      "metadata": {
        "colab": {
          "base_uri": "https://localhost:8080/"
        },
        "id": "pTfi2qrq4mXT",
        "outputId": "b7ba5ae1-51a0-4dd6-bf40-be5eff2ef886"
      },
      "execution_count": 55,
      "outputs": [
        {
          "output_type": "stream",
          "name": "stdout",
          "text": [
            "Statistics=0.672, p=0.000\n",
            "Sample does not look Gaussian\n"
          ]
        }
      ]
    },
    {
      "cell_type": "code",
      "source": [
        "# testing for normality for Bluecars returned\n",
        "\n",
        "stat, p = shapiro(autolib_sample['BlueCars_returned_sum'])\n",
        "print('Statistics=%.3f, p=%.3f' % (stat, p))\n",
        "\n",
        "# interpreting\n",
        "alpha = 0.05\n",
        "if p > alpha:\n",
        "\tprint('Sample looks Gaussian')\n",
        "else:\n",
        "\tprint('Sample does not look Gaussian')"
      ],
      "metadata": {
        "colab": {
          "base_uri": "https://localhost:8080/"
        },
        "id": "mOjg9GQA5CW7",
        "outputId": "16bb9697-ba16-4700-b008-5af1ffd0f5d0"
      },
      "execution_count": 56,
      "outputs": [
        {
          "output_type": "stream",
          "name": "stdout",
          "text": [
            "Statistics=0.671, p=0.000\n",
            "Sample does not look Gaussian\n"
          ]
        }
      ]
    },
    {
      "cell_type": "code",
      "source": [
        "#Calcuklating the p value using s test\n",
        "from statsmodels.stats.weightstats import ztest as ztest\n",
        "ztest,pval = ztest(autolib_sample['BlueCars_taken_sum'],autolib_sample['BlueCars_returned_sum'])\n",
        "\n",
        "print(\"This is our p-value\", pval)\n",
        "print(\"This is value of the ztest\", ztest)\n",
        "# To determine i\n",
        "if pval < 0.05:\n",
        "  print(\"We reject the Null Hypothesis\")\n",
        "else:\n",
        "  print(\"We fail to reject the Null Hypothesis\")"
      ],
      "metadata": {
        "colab": {
          "base_uri": "https://localhost:8080/"
        },
        "id": "T-PhMhDi5f1C",
        "outputId": "8e1d7fe2-d26c-4cdd-f4b0-945efe2e7c61"
      },
      "execution_count": 57,
      "outputs": [
        {
          "output_type": "stream",
          "name": "stdout",
          "text": [
            "This is our p-value 0.8481097406849015\n",
            "This is value of the ztest -0.19153081478438222\n",
            "We fail to reject the Null Hypothesis\n"
          ]
        },
        {
          "output_type": "stream",
          "name": "stderr",
          "text": [
            "/usr/local/lib/python3.7/dist-packages/statsmodels/tools/_testing.py:19: FutureWarning:\n",
            "\n",
            "pandas.util.testing is deprecated. Use the functions in the public API at pandas.testing instead.\n",
            "\n"
          ]
        }
      ]
    },
    {
      "cell_type": "markdown",
      "source": [
        "### Point Estimation"
      ],
      "metadata": {
        "id": "rdImXGTaHxz8"
      }
    },
    {
      "cell_type": "code",
      "source": [
        "# Population Mean for BlueCars\n",
        "# pop mean\n",
        "a = autolib['BlueCars_taken_sum'].mean()\n",
        "a\n",
        "\n",
        "# The sample mean\n",
        "b = autolib_sample['BlueCars_taken_sum'].mean()\n",
        "b\n",
        "\n",
        "#point estimator\n",
        "a-b"
      ],
      "metadata": {
        "colab": {
          "base_uri": "https://localhost:8080/"
        },
        "id": "OEJeXCJsH53w",
        "outputId": "00dd3b18-c2bb-4acd-ce75-81523c0dc3b9"
      },
      "execution_count": 58,
      "outputs": [
        {
          "output_type": "execute_result",
          "data": {
            "text/plain": [
              "-1.9835397859452257"
            ]
          },
          "metadata": {},
          "execution_count": 58
        }
      ]
    },
    {
      "cell_type": "markdown",
      "source": [
        "our estimator underestimates the true mean by 0.0006. We can conclude that we can get a fairly accurate estimate of a large population from smaller subset."
      ],
      "metadata": {
        "id": "i4R1Rtv0JBnw"
      }
    },
    {
      "cell_type": "markdown",
      "source": [
        "### Confidence Interval"
      ],
      "metadata": {
        "id": "hultCSVKJiqe"
      }
    },
    {
      "cell_type": "code",
      "source": [
        "# Confidence level for Blue Cars\n",
        "\n",
        "#sample size\n",
        "sample_size = len(autolib_sample['BlueCars_taken_sum'])\n",
        "sample_size\n",
        "\n",
        "#standard error\n",
        "std_error = autolib_sample['BlueCars_taken_sum'].std()/np.sqrt(sample_size)\n",
        "std_error\n",
        "\n",
        "#Calculating a confidence interval \n",
        "import scipy.stats\n",
        "from scipy.stats import norm\n",
        "norm.interval(0.95, loc=b, scale=std_error)"
      ],
      "metadata": {
        "colab": {
          "base_uri": "https://localhost:8080/"
        },
        "id": "UodJTDaSJod5",
        "outputId": "dc8b833e-a518-4247-88d9-cd137ef68d8d"
      },
      "execution_count": 59,
      "outputs": [
        {
          "output_type": "execute_result",
          "data": {
            "text/plain": [
              "(145.4251659011278, 160.7220502045658)"
            ]
          },
          "metadata": {},
          "execution_count": 59
        }
      ]
    },
    {
      "cell_type": "markdown",
      "source": [
        "We can be 95% certain that the population mean data is between 143.79 and 159.11"
      ],
      "metadata": {
        "id": "NIE4l_CuLsER"
      }
    },
    {
      "cell_type": "markdown",
      "source": [
        "# Summary"
      ],
      "metadata": {
        "id": "AvTfLCLKujrL"
      }
    },
    {
      "cell_type": "markdown",
      "source": [
        "No missing values or duplicated records in our data.\n",
        "\n",
        "Outliers were retained since they are important for the study.\n",
        "\n",
        "The numerical variables to not follow a normal distribution.\n",
        "\n",
        "High correlation between numerical variables.\n",
        "\n",
        "Stratified sample was used for greater precision.\n",
        "\n"
      ],
      "metadata": {
        "id": "iOhJqRN1u8f-"
      }
    },
    {
      "cell_type": "markdown",
      "source": [
        "# Conclussion"
      ],
      "metadata": {
        "id": "iv7OX-LmxlBr"
      }
    },
    {
      "cell_type": "markdown",
      "source": [
        "We fail to reject the null hypothesis becase there is not sufficient evidence to prove that the average means of the bluecars taken and returned are not equal."
      ],
      "metadata": {
        "id": "74TYvxRPxpYX"
      }
    }
  ]
}